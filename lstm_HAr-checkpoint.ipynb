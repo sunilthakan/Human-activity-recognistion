{
 "cells": [
  {
   "cell_type": "code",
   "execution_count": 21,
   "metadata": {},
   "outputs": [],
   "source": [
    "import pandas as pd\n",
    "import numpy as np\n",
    "from sklearn.preprocessing import OneHotEncoder\n",
    "import matplotlib.pyplot as plt"
   ]
  },
  {
   "cell_type": "code",
   "execution_count": 22,
   "metadata": {},
   "outputs": [],
   "source": [
    "DATADIR = r'C:\\Users\\UPENDRA\\Desktop\\UCI_HAR_Datset'\n",
    "\n",
    "SIGNALS = [\n",
    "    \"body_acc_x\",\n",
    "     \"body_acc_y\",\n",
    "    \"body_acc_z\",\n",
    "    \"body_gyro_x\",\n",
    "    \"body_gyro_y\",\n",
    "    \"body_gyro_z\",\n",
    "    \"total_acc_x\",\n",
    "    \"total_acc_y\",\n",
    "    \"total_acc_z\"\n",
    "]\n",
    "\n",
    "#read the csv files function\n",
    "def _read_csv(filename):\n",
    "    dataframe = pd.read_csv(filename, delim_whitespace=True, header=None)\n",
    "    return(dataframe.values)\n",
    "\n",
    "def load_signals(subset):\n",
    "    \n",
    "    signals_data = list()\n",
    "    for signal in SIGNALS:\n",
    "        filename = f'{DATADIR}/{subset}/Inertial Signals/{signal}_{subset}.txt'\n",
    "        signals_data.append(_read_csv(filename))\n",
    "    \n",
    "    signals_data = np.dstack(signals_data)\n",
    "    # stack group so that features are the 3rd dimension\n",
    "    # Resultant shape is (7352 train/2947 test samples, 128 timesteps, 9 signals)\n",
    "    return(signals_data)\n",
    "        \n",
    "#one hot encoding \n",
    "def load_y(subset):\n",
    "    \n",
    "    filename = f'{DATADIR}/{subset}/y_{subset}.txt'\n",
    "    y = _read_csv(filename)\n",
    "    onehot_encoder = OneHotEncoder(sparse=False)\n",
    "    y = onehot_encoder.fit_transform(y.reshape(-1,1))\n",
    "    return (y)\n",
    "\n",
    "def load_data():\n",
    "\n",
    "    X_train, X_test = load_signals('train'), load_signals('test')\n",
    "    y_train, y_test = load_y('train'), load_y('test')\n",
    "\n",
    "    return X_train, X_test, y_train, y_test"
   ]
  },
  {
   "cell_type": "code",
   "execution_count": 23,
   "metadata": {},
   "outputs": [
    {
     "name": "stdout",
     "output_type": "stream",
     "text": [
      "(7352, 128, 9) (7352, 6) (2947, 128, 9) (2947, 6)\n"
     ]
    }
   ],
   "source": [
    "# Loading the train and test data\n",
    "X_train, X_test, Y_train, Y_test = load_data()\n",
    "print(X_train.shape,Y_train.shape,X_test.shape,Y_test.shape)"
   ]
  },
  {
   "cell_type": "code",
   "execution_count": 24,
   "metadata": {},
   "outputs": [],
   "source": [
    "timesteps = X_train.shape[1]\n",
    "n_features = X_train.shape[2]\n",
    "n_classes = 6"
   ]
  },
  {
   "cell_type": "markdown",
   "metadata": {},
   "source": [
    "# Lstm Model"
   ]
  },
  {
   "cell_type": "code",
   "execution_count": 25,
   "metadata": {},
   "outputs": [],
   "source": [
    "from keras.models import Sequential\n",
    "from keras.layers import Dense,Flatten,Dropout,LSTM \n",
    "from keras.layers import LSTM"
   ]
  },
  {
   "cell_type": "code",
   "execution_count": 30,
   "metadata": {},
   "outputs": [
    {
     "name": "stdout",
     "output_type": "stream",
     "text": [
      "Model: \"sequential_4\"\n",
      "_________________________________________________________________\n",
      "Layer (type)                 Output Shape              Param #   \n",
      "=================================================================\n",
      "lstm_3 (LSTM)                (None, 100)               44000     \n",
      "_________________________________________________________________\n",
      "dropout_4 (Dropout)          (None, 100)               0         \n",
      "_________________________________________________________________\n",
      "dense_4 (Dense)              (None, 6)                 606       \n",
      "=================================================================\n",
      "Total params: 44,606\n",
      "Trainable params: 44,606\n",
      "Non-trainable params: 0\n",
      "_________________________________________________________________\n"
     ]
    }
   ],
   "source": [
    "# the sequential model\n",
    "model = Sequential()\n",
    "model.add(LSTM(100, input_shape=(timesteps,n_features)))\n",
    "# Adding a dropout layer\n",
    "model.add(Dropout(0.5))\n",
    "# Adding a dense output layer with sigmoid activation\n",
    "model.add(Dense(n_classes, activation='softmax'))\n",
    "model.summary()"
   ]
  },
  {
   "cell_type": "code",
   "execution_count": 31,
   "metadata": {},
   "outputs": [
    {
     "name": "stdout",
     "output_type": "stream",
     "text": [
      "Epoch 1/15\n",
      "115/115 [==============================] - 28s 244ms/step - loss: 1.2165 - accuracy: 0.4728 - val_loss: 1.0364 - val_accuracy: 0.5803\n",
      "Epoch 2/15\n",
      "115/115 [==============================] - 23s 198ms/step - loss: 0.7697 - accuracy: 0.6504 - val_loss: 0.7120 - val_accuracy: 0.7319\n",
      "Epoch 3/15\n",
      "115/115 [==============================] - 22s 189ms/step - loss: 0.6472 - accuracy: 0.7312 - val_loss: 0.7802 - val_accuracy: 0.6569\n",
      "Epoch 4/15\n",
      "115/115 [==============================] - 23s 203ms/step - loss: 0.5862 - accuracy: 0.7659 - val_loss: 0.6885 - val_accuracy: 0.7492\n",
      "Epoch 5/15\n",
      "115/115 [==============================] - 23s 203ms/step - loss: 0.5083 - accuracy: 0.8183 - val_loss: 0.4506 - val_accuracy: 0.8493\n",
      "Epoch 6/15\n",
      "115/115 [==============================] - 22s 191ms/step - loss: 0.3003 - accuracy: 0.9019 - val_loss: 0.3092 - val_accuracy: 0.8904\n",
      "Epoch 7/15\n",
      "115/115 [==============================] - 21s 186ms/step - loss: 0.2372 - accuracy: 0.9173 - val_loss: 0.3465 - val_accuracy: 0.8846\n",
      "Epoch 8/15\n",
      "115/115 [==============================] - 21s 187ms/step - loss: 0.1916 - accuracy: 0.9316 - val_loss: 0.3059 - val_accuracy: 0.8951\n",
      "Epoch 9/15\n",
      "115/115 [==============================] - 23s 196ms/step - loss: 0.1792 - accuracy: 0.9346 - val_loss: 0.2591 - val_accuracy: 0.9050\n",
      "Epoch 10/15\n",
      "115/115 [==============================] - 23s 200ms/step - loss: 0.1721 - accuracy: 0.9391 - val_loss: 0.2789 - val_accuracy: 0.8992\n",
      "Epoch 11/15\n",
      "115/115 [==============================] - 24s 205ms/step - loss: 0.2057 - accuracy: 0.9283 - val_loss: 0.2754 - val_accuracy: 0.8951\n",
      "Epoch 12/15\n",
      "115/115 [==============================] - 24s 206ms/step - loss: 0.1992 - accuracy: 0.9270 - val_loss: 0.3304 - val_accuracy: 0.8924\n",
      "Epoch 13/15\n",
      "115/115 [==============================] - 24s 205ms/step - loss: 0.2104 - accuracy: 0.9155 - val_loss: 0.3123 - val_accuracy: 0.8633\n",
      "Epoch 14/15\n",
      "115/115 [==============================] - 23s 204ms/step - loss: 0.2095 - accuracy: 0.9223 - val_loss: 0.2961 - val_accuracy: 0.8914\n",
      "Epoch 15/15\n",
      "115/115 [==============================] - 22s 189ms/step - loss: 0.1586 - accuracy: 0.9402 - val_loss: 0.2534 - val_accuracy: 0.9074\n"
     ]
    }
   ],
   "source": [
    "epochs= 15\n",
    "batch_size =64\n",
    "# Compiling the model\n",
    "model.compile(loss='categorical_crossentropy',optimizer='adam',metrics=['accuracy'])\n",
    "# Training the model\n",
    "history = model.fit(X_train,Y_train,batch_size=batch_size,validation_data=(X_test, Y_test),epochs=epochs)"
   ]
  },
  {
   "cell_type": "code",
   "execution_count": 32,
   "metadata": {},
   "outputs": [
    {
     "name": "stdout",
     "output_type": "stream",
     "text": [
      "dict_keys(['loss', 'accuracy', 'val_loss', 'val_accuracy'])\n"
     ]
    },
    {
     "data": {
      "image/png": "[encoded data removed]",
      "text/plain": [
       "<Figure size 432x288 with 1 Axes>"
      ]
     },
     "metadata": {
      "needs_background": "light"
     },
     "output_type": "display_data"
    },
    {
     "data": {
      "image/png": "[encoded data removed]",
      "text/plain": [
       "<Figure size 432x288 with 1 Axes>"
      ]
     },
     "metadata": {
      "needs_background": "light"
     },
     "output_type": "display_data"
    }
   ],
   "source": [
    "print(history.history.keys())\n",
    "# summarize history for accuracy\n",
    "plt.plot(history.history['accuracy'])\n",
    "plt.plot(history.history['val_accuracy'])\n",
    "plt.title('model accuracy')\n",
    "plt.ylabel('accuracy')\n",
    "plt.xlabel('epoch')\n",
    "plt.legend(['train', 'cv'], loc='upper left')\n",
    "plt.show()\n",
    "# summarize history for loss\n",
    "plt.plot(history.history['loss'])\n",
    "plt.plot(history.history['val_loss'])\n",
    "plt.title('model loss')\n",
    "plt.ylabel('loss')\n",
    "plt.xlabel('epoch')\n",
    "plt.legend(['train', 'cv'], loc='upper left')\n",
    "plt.show()"
   ]
  },
  {
   "cell_type": "code",
   "execution_count": 33,
   "metadata": {},
   "outputs": [
    {
     "name": "stdout",
     "output_type": "stream",
     "text": [
      "93/93 [==============================] - 7s 71ms/step - loss: 0.2534 - accuracy: 0.9074\n",
      "[0.25337162613868713, 0.9073634147644043]\n"
     ]
    }
   ],
   "source": [
    "score = model.evaluate(X_test, Y_test)\n",
    "print(score)"
   ]
  },
  {
   "cell_type": "markdown",
   "metadata": {},
   "source": [
    "- With a simple LSTM layer architecture we got 90.73% accuracy and a loss of 0.2533\n"
   ]
  }
 ],
 "metadata": {
  "kernelspec": {
   "display_name": "Python 3",
   "language": "python",
   "name": "python3"
  },
  "language_info": {
   "codemirror_mode": {
    "name": "ipython",
    "version": 3
   },
   "file_extension": ".py",
   "mimetype": "text/x-python",
   "name": "python",
   "nbconvert_exporter": "python",
   "pygments_lexer": "ipython3",
   "version": "3.8.3"
  }
 },
 "nbformat": 4,
 "nbformat_minor": 4
}
