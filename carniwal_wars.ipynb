{
  "nbformat": 4,
  "nbformat_minor": 0,
  "metadata": {
    "colab": {
      "name": "carniwal_wars.ipynb",
      "provenance": [],
      "collapsed_sections": [],
      "authorship_tag": "ABX9TyNkyUvohuOoioSliKq81bUR",
      "include_colab_link": true
    },
    "kernelspec": {
      "display_name": "Python 3",
      "name": "python3"
    }
  },
  "cells": [
    {
      "cell_type": "markdown",
      "metadata": {
        "id": "view-in-github",
        "colab_type": "text"
      },
      "source": [
        "<a href=\"https://colab.research.google.com/github/sunilthakan/Human-activity-recognistion/blob/main/carniwal_wars.ipynb\" target=\"_parent\"><img src=\"https://colab.research.google.com/assets/colab-badge.svg\" alt=\"Open In Colab\"/></a>"
      ]
    },
    {
      "cell_type": "code",
      "metadata": {
        "colab": {
          "base_uri": "https://localhost:8080/"
        },
        "id": "YhntoJkozWjW",
        "outputId": "22845b30-7d7f-4e30-d804-96690d4ca1eb"
      },
      "source": [
        "pip install CatBoost"
      ],
      "execution_count": 1,
      "outputs": [
        {
          "output_type": "stream",
          "text": [
            "Requirement already satisfied: CatBoost in /usr/local/lib/python3.6/dist-packages (0.24.3)\n",
            "Requirement already satisfied: pandas>=0.24.0 in /usr/local/lib/python3.6/dist-packages (from CatBoost) (1.1.4)\n",
            "Requirement already satisfied: matplotlib in /usr/local/lib/python3.6/dist-packages (from CatBoost) (3.2.2)\n",
            "Requirement already satisfied: plotly in /usr/local/lib/python3.6/dist-packages (from CatBoost) (4.4.1)\n",
            "Requirement already satisfied: scipy in /usr/local/lib/python3.6/dist-packages (from CatBoost) (1.4.1)\n",
            "Requirement already satisfied: graphviz in /usr/local/lib/python3.6/dist-packages (from CatBoost) (0.10.1)\n",
            "Requirement already satisfied: numpy>=1.16.0 in /usr/local/lib/python3.6/dist-packages (from CatBoost) (1.18.5)\n",
            "Requirement already satisfied: six in /usr/local/lib/python3.6/dist-packages (from CatBoost) (1.15.0)\n",
            "Requirement already satisfied: python-dateutil>=2.7.3 in /usr/local/lib/python3.6/dist-packages (from pandas>=0.24.0->CatBoost) (2.8.1)\n",
            "Requirement already satisfied: pytz>=2017.2 in /usr/local/lib/python3.6/dist-packages (from pandas>=0.24.0->CatBoost) (2018.9)\n",
            "Requirement already satisfied: kiwisolver>=1.0.1 in /usr/local/lib/python3.6/dist-packages (from matplotlib->CatBoost) (1.3.1)\n",
            "Requirement already satisfied: cycler>=0.10 in /usr/local/lib/python3.6/dist-packages (from matplotlib->CatBoost) (0.10.0)\n",
            "Requirement already satisfied: pyparsing!=2.0.4,!=2.1.2,!=2.1.6,>=2.0.1 in /usr/local/lib/python3.6/dist-packages (from matplotlib->CatBoost) (2.4.7)\n",
            "Requirement already satisfied: retrying>=1.3.3 in /usr/local/lib/python3.6/dist-packages (from plotly->CatBoost) (1.3.3)\n"
          ],
          "name": "stdout"
        }
      ]
    },
    {
      "cell_type": "code",
      "metadata": {
        "id": "8KN2-E-nzbQR"
      },
      "source": [
        "import warnings\n",
        "warnings.simplefilter('ignore')\n",
        "\n",
        "import matplotlib.pyplot as plt\n",
        "import pandas as pd\n",
        "import numpy as np\n",
        "import seaborn as sns\n",
        "\n",
        "from sklearn.model_selection import train_test_split,GridSearchCV,RandomizedSearchCV\n",
        "from sklearn.feature_extraction.text import TfidfVectorizer,CountVectorizer\n",
        "\n",
        "from sklearn.neighbors import KNeighborsRegressor\n",
        "from sklearn.linear_model import LinearRegression,SGDRegressor\n",
        "from sklearn.svm import SVR\n",
        "from sklearn.tree import DecisionTreeRegressor, ExtraTreeRegressor\n",
        "from sklearn.ensemble import AdaBoostRegressor, RandomForestRegressor, BaggingRegressor, ExtraTreesRegressor, GradientBoostingRegressor\n",
        "import xgboost as xgb\n",
        "from lightgbm import LGBMRegressor\n",
        "from catboost import CatBoostRegressor"
      ],
      "execution_count": 2,
      "outputs": []
    },
    {
      "cell_type": "code",
      "metadata": {
        "colab": {
          "base_uri": "https://localhost:8080/"
        },
        "id": "eO3uPQU4zbc4",
        "outputId": "188ea79c-a2e0-4209-8fff-b934ede63400"
      },
      "source": [
        "from google.colab import drive\n",
        "from google.colab import files\n",
        "\n",
        "drive.mount('/content/drive')"
      ],
      "execution_count": 3,
      "outputs": [
        {
          "output_type": "stream",
          "text": [
            "Drive already mounted at /content/drive; to attempt to forcibly remount, call drive.mount(\"/content/drive\", force_remount=True).\n"
          ],
          "name": "stdout"
        }
      ]
    },
    {
      "cell_type": "code",
      "metadata": {
        "id": "FmLebB8wzbhf"
      },
      "source": [
        "df_test = pd.read_csv(r'/content/drive/MyDrive/carniwal_wars/dataset/test.csv').reset_index(drop=True)\n",
        "df_train = pd.read_csv(r\"/content/drive/MyDrive/carniwal_wars/dataset/train.csv\").reset_index(drop=True)"
      ],
      "execution_count": 4,
      "outputs": []
    },
    {
      "cell_type": "code",
      "metadata": {
        "colab": {
          "base_uri": "https://localhost:8080/"
        },
        "id": "ZcLXbFEFsTdg",
        "outputId": "f057aa9f-840b-4963-c295-1268b2fc4fec"
      },
      "source": [
        "df_train.info()"
      ],
      "execution_count": 5,
      "outputs": [
        {
          "output_type": "stream",
          "text": [
            "<class 'pandas.core.frame.DataFrame'>\n",
            "RangeIndex: 6368 entries, 0 to 6367\n",
            "Data columns (total 15 columns):\n",
            " #   Column            Non-Null Count  Dtype  \n",
            "---  ------            --------------  -----  \n",
            " 0   Product_id        6368 non-null   object \n",
            " 1   Stall_no          6363 non-null   float64\n",
            " 2   instock_date      6368 non-null   object \n",
            " 3   Market_Category   6368 non-null   int64  \n",
            " 4   Customer_name     6157 non-null   object \n",
            " 5   Loyalty_customer  6368 non-null   object \n",
            " 6   Product_Category  6368 non-null   object \n",
            " 7   Grade             6368 non-null   int64  \n",
            " 8   Demand            6368 non-null   int64  \n",
            " 9   Discount_avail    6330 non-null   float64\n",
            " 10  charges_1         6170 non-null   float64\n",
            " 11  charges_2 (%)     6163 non-null   float64\n",
            " 12  Minimum_price     6330 non-null   float64\n",
            " 13  Maximum_price     6025 non-null   float64\n",
            " 14  Selling_Price     6327 non-null   float64\n",
            "dtypes: float64(7), int64(3), object(5)\n",
            "memory usage: 746.4+ KB\n"
          ],
          "name": "stdout"
        }
      ]
    },
    {
      "cell_type": "code",
      "metadata": {
        "colab": {
          "base_uri": "https://localhost:8080/"
        },
        "id": "cxMysY-zGy_M",
        "outputId": "2a9c5d0e-8366-4dd7-9c08-f1a6e3923622"
      },
      "source": [
        "df_train.Discount_avail.value_counts()"
      ],
      "execution_count": 6,
      "outputs": [
        {
          "output_type": "execute_result",
          "data": {
            "text/plain": [
              "0.0    5441\n",
              "1.0     889\n",
              "Name: Discount_avail, dtype: int64"
            ]
          },
          "metadata": {
            "tags": []
          },
          "execution_count": 6
        }
      ]
    },
    {
      "cell_type": "code",
      "metadata": {
        "colab": {
          "base_uri": "https://localhost:8080/"
        },
        "id": "1yTX2wJa0X5H",
        "outputId": "d06efd39-58f9-41a5-d989-b42de3e88dcd"
      },
      "source": [
        "df_train['Selling_Price'] = abs(df_train['Selling_Price'])\n",
        "\n",
        "print(df_train.shape)\n",
        "#df_train=df_train[df_train['Maximum_price']>=df_train['Minimum_price']]\n",
        "#print(df_train.shape)\n",
        "\n",
        "df_train['dis'] = df_train['Selling_Price'] - df_train['Minimum_price']\n",
        "\n",
        "def retn(x):\n",
        "    if (x<0):\n",
        "        return (1)\n",
        "    else:\n",
        "        return (0)\n",
        "\n",
        "df_train['dis'] = df_train['dis'].apply(retn)\n",
        "df_train['Discount_avail'] = df_train['Discount_avail'].fillna(df_train['dis'])\n",
        "df_train.drop(columns=['dis'],inplace=True)\n",
        "\n",
        "\n",
        "df_train['charges_1'] = df_train['charges_1'].fillna(99)\n",
        "df_train['charges_2 (%)'] = df_train['charges_2 (%)'].fillna(18)\n",
        "df_train['Customer_name'] = df_train['Customer_name'].fillna('sunu')\n",
        "df_test['charges_1'] = df_test['charges_1'].fillna(99)\n",
        "df_test['charges_2 (%)'] = df_test['charges_2 (%)'].fillna(18)\n",
        "df_test['Customer_name'] = df_test['Customer_name'].fillna('sunu')\n",
        "\n",
        "\n",
        "df_train = df_train.set_index('Product_id')\n",
        "df_test = df_test.set_index('Product_id')\n",
        "\n",
        "df_train['Stall_no'].loc['NKCE6P3FFZHHTYSR']=1\n",
        "df_train['Stall_no'].loc['NKCEAX7HMXEAZEFR']=44\n",
        "df_train['Stall_no'].loc['NKCE3Y6EKYJEFUYV']=38\n",
        "df_train['Stall_no'].loc['CRTECN2RRRSAH7JT']=11\n",
        "df_train['Stall_no'].loc['CAGE68FGFNP5CSBD']=12\n",
        "df_test['Stall_no'].loc['BRAECFAQXWGHUZDQ']=28\n",
        "\n",
        "df_train['Year'] = pd.DatetimeIndex(df_train['instock_date']).year\n",
        "df_train['Mon'] = pd.DatetimeIndex(df_train['instock_date']).month\n",
        "df_train['date'] = pd.DatetimeIndex(df_train['instock_date']).day\n",
        "df_train['day'] = pd.DatetimeIndex(df_train['instock_date']).dayofweek\n",
        "df_train['hour'] = pd.DatetimeIndex(df_train['instock_date']).hour\n",
        "\n",
        "df_test['Year'] = pd.DatetimeIndex(df_test['instock_date']).year\n",
        "df_test['Mon'] = pd.DatetimeIndex(df_test['instock_date']).month\n",
        "df_test['date'] = pd.DatetimeIndex(df_test['instock_date']).day\n",
        "df_test['day'] = pd.DatetimeIndex(df_test['instock_date']).dayofweek\n",
        "df_test['hour'] = pd.DatetimeIndex(df_test['instock_date']).hour"
      ],
      "execution_count": 7,
      "outputs": [
        {
          "output_type": "stream",
          "text": [
            "(6368, 15)\n"
          ],
          "name": "stdout"
        }
      ]
    },
    {
      "cell_type": "code",
      "metadata": {
        "colab": {
          "base_uri": "https://localhost:8080/"
        },
        "id": "A9Lpy-Y50ldr",
        "outputId": "d3c50db5-cd67-404f-b539-d8c0c9b4fbaf"
      },
      "source": [
        "df_train = df_train.dropna(subset=['Selling_Price','Maximum_price'])\n",
        "df = pd.concat([df_train,df_test],ignore_index=True)\n",
        "\n",
        "#df['Minimum_price']=df['Minimum_price'].fillna(df['Minimum_price'].mean())\n",
        "\n",
        "df['Minimum_price'] = df.groupby(['Product_Category','Grade','Market_Category','Discount_avail','Year','Mon'])['Minimum_price'].transform(lambda x: x.fillna(x.mean()))\n",
        "df['Minimum_price'] = df.groupby(['Product_Category','Grade','Market_Category','Year','Mon'])['Minimum_price'].transform(lambda x: x.fillna(x.mean()))\n",
        "df['Minimum_price'] = df.groupby(['Product_Category','Grade','Year','Mon'])['Minimum_price'].transform(lambda x: x.fillna(x.mean()))\n",
        "df['Minimum_price'] = df.groupby(['Product_Category','Grade','Discount_avail'])['Minimum_price'].transform(lambda x: x.fillna(x.mean()))\n",
        "df['Minimum_price'] = df.groupby(['Product_Category','Grade'])['Minimum_price'].transform(lambda x: x.fillna(x.mean()))\n",
        "\n",
        "\n",
        "df['Maximum_price'] = df.groupby(['Product_Category','Grade','Market_Category','Discount_avail','Year','Mon'])['Maximum_price'].transform(lambda x: x.fillna(x.mean()))\n",
        "df['Maximum_price'] = df.groupby(['Product_Category','Grade','Market_Category','Year','Mon'])['Maximum_price'].transform(lambda x: x.fillna(x.mean()))\n",
        "df['Maximum_price'] = df.groupby(['Product_Category','Grade','Year','Mon'])['Maximum_price'].transform(lambda x: x.fillna(x.mean()))\n",
        "df['Maximum_price'] = df.groupby(['Product_Category','Grade','Discount_avail'])['Maximum_price'].transform(lambda x: x.fillna(x.mean()))\n",
        "df['Maximum_price'] = df.groupby(['Product_Category','Grade'])['Maximum_price'].transform(lambda x: x.fillna(x.mean()))\n",
        "print(df_train.shape)"
      ],
      "execution_count": 8,
      "outputs": [
        {
          "output_type": "stream",
          "text": [
            "(5986, 19)\n"
          ],
          "name": "stdout"
        }
      ]
    },
    {
      "cell_type": "code",
      "metadata": {
        "colab": {
          "base_uri": "https://localhost:8080/"
        },
        "id": "-ixB00Hu0HqB",
        "outputId": "1b534a14-73e2-494b-bd57-68dafc692d17"
      },
      "source": [
        "df.info()"
      ],
      "execution_count": 9,
      "outputs": [
        {
          "output_type": "stream",
          "text": [
            "<class 'pandas.core.frame.DataFrame'>\n",
            "RangeIndex: 9416 entries, 0 to 9415\n",
            "Data columns (total 19 columns):\n",
            " #   Column            Non-Null Count  Dtype  \n",
            "---  ------            --------------  -----  \n",
            " 0   Stall_no          9416 non-null   float64\n",
            " 1   instock_date      9416 non-null   object \n",
            " 2   Market_Category   9416 non-null   int64  \n",
            " 3   Customer_name     9416 non-null   object \n",
            " 4   Loyalty_customer  9416 non-null   object \n",
            " 5   Product_Category  9416 non-null   object \n",
            " 6   Grade             9416 non-null   int64  \n",
            " 7   Demand            9416 non-null   int64  \n",
            " 8   Discount_avail    9416 non-null   float64\n",
            " 9   charges_1         9416 non-null   float64\n",
            " 10  charges_2 (%)     9416 non-null   float64\n",
            " 11  Minimum_price     9416 non-null   float64\n",
            " 12  Maximum_price     9416 non-null   float64\n",
            " 13  Selling_Price     5986 non-null   float64\n",
            " 14  Year              9416 non-null   int64  \n",
            " 15  Mon               9416 non-null   int64  \n",
            " 16  date              9416 non-null   int64  \n",
            " 17  day               9416 non-null   int64  \n",
            " 18  hour              9416 non-null   int64  \n",
            "dtypes: float64(7), int64(8), object(4)\n",
            "memory usage: 1.4+ MB\n"
          ],
          "name": "stdout"
        }
      ]
    },
    {
      "cell_type": "code",
      "metadata": {
        "id": "FdfU9eUk0HuW"
      },
      "source": [
        "df['instock_date'] = pd.DatetimeIndex(df['instock_date']).date\n",
        "\n",
        "def calculate_rate(year,month):\n",
        "  if((year ==2014)&(month<=10)):\n",
        "    return('2014-10-31')\n",
        "  elif(((year ==2015)&(month<=10))|(year ==2014)&(month>10)):\n",
        "    return('2015-10-31')\n",
        "  else:\n",
        "    return('2016-10-31')\n",
        "\n",
        "df[\"days_left\"] = df[['Year','Mon']].apply(lambda x : calculate_rate(*x), axis=1)\n",
        "df['days_left'] = pd.DatetimeIndex(df['days_left']).date\n",
        "df['days_left'] = df['days_left'] - df['instock_date']\n",
        "df['days_left']=df['days_left']/np.timedelta64(1,'D')\n",
        "\n",
        "def calculate(Minimum_price,Maximum_price,Discount_avail):\n",
        "  if(Discount_avail==0):\n",
        "    avg = (Minimum_price+Maximum_price)/2\n",
        "    return(avg)\n",
        "  else:\n",
        "    avg = (Minimum_price+Maximum_price)/10\n",
        "    return(avg)\n",
        "\n",
        "df[\"avg\"] = df[['Minimum_price','Maximum_price','Discount_avail']].apply(lambda x : calculate(*x), axis=1)\n",
        "df[\"avg1\"] = (df['Minimum_price']+df['Maximum_price'])/2\n",
        "df[\"sell\"] = (df['Minimum_price']*0.3+df['Maximum_price']*0.7)"
      ],
      "execution_count": 10,
      "outputs": []
    },
    {
      "cell_type": "code",
      "metadata": {
        "id": "vdR1FzdtLNRH"
      },
      "source": [
        "df['unit_price']  = df['avg']/df['Demand']\n",
        "df['unit_price1']  = df['avg1']/df['Demand']\n",
        "df['unit_price2']  = df['sell']/df['Demand']\n",
        "df['unit_price3']  = df['Maximum_price']/df['Demand']\n",
        "df['unit_price4']  = df['Minimum_price']/df['Demand']"
      ],
      "execution_count": 11,
      "outputs": []
    },
    {
      "cell_type": "code",
      "metadata": {
        "id": "ZnkMdjArLnIJ"
      },
      "source": [
        "df['crge']  = (df['avg']*df['charges_1'])/100\n",
        "df['crge1']  = (df['avg1']*df['charges_1'])/100\n",
        "df['crge2']  = (df['sell']*df['charges_1'])/100\n",
        "df['crge3']  = (df['Minimum_price']*df['charges_1'])/100\n",
        "df['crge4']  = (df['Maximum_price']*df['charges_1'])/100\n",
        "\n",
        "df['crge11']  = (df['avg']*df['charges_2 (%)'])/100\n",
        "df['crge12']  = (df['avg1']*df['charges_2 (%)'])/100\n",
        "df['crge23']  = (df['sell']*df['charges_2 (%)'])/100\n",
        "df['crge34']  = (df['Minimum_price']*df['charges_2 (%)'])/100\n",
        "df['crge45']  = (df['Maximum_price']*df['charges_2 (%)'])/100\n",
        "\n",
        "df['crge111']  = df['avg'] - (df['avg']*df['charges_1'])/100\n",
        "df['crge112']  = df['avg1']- (df['avg1']*df['charges_1'])/100\n",
        "df['crge222']  = df['sell'] - (df['sell']*df['charges_1'])/100\n",
        "df['crge322']  = df['Minimum_price'] - (df['Minimum_price']*df['charges_1'])/100\n",
        "df['crge422']  = df['Maximum_price'] -(df['Maximum_price']*df['charges_1'])/100\n",
        "\n",
        "df['crge119']  = df['avg'] - (df['avg']*df['charges_2 (%)'])/100\n",
        "df['crge129']  = df['avg1']-(df['avg1']*df['charges_2 (%)'])/100\n",
        "df['crge239']  = df['sell'] -(df['sell']*df['charges_2 (%)'])/100\n",
        "df['crge349']  = df['Minimum_price'] - (df['Minimum_price']*df['charges_2 (%)'])/100\n",
        "df['crge459']  = df['Maximum_price'] - (df['Maximum_price']*df['charges_2 (%)'])/100"
      ],
      "execution_count": 12,
      "outputs": []
    },
    {
      "cell_type": "code",
      "metadata": {
        "id": "KeCVjBiLvves"
      },
      "source": [
        "lst =['Product_Category','Loyalty_customer']\n",
        "for i in lst:\n",
        "    l1 = df[i].value_counts().index\n",
        "    l2 = list(range(len(l1)))\n",
        "    d = dict(zip(l1,l2))\n",
        "    df[i] = df[i].map(d)"
      ],
      "execution_count": 13,
      "outputs": []
    },
    {
      "cell_type": "code",
      "metadata": {
        "colab": {
          "base_uri": "https://localhost:8080/"
        },
        "id": "iQCOW9_uFzth",
        "outputId": "4aef8b90-f926-4eb0-9620-8474298fc0b1"
      },
      "source": [
        "df_train.columns"
      ],
      "execution_count": 14,
      "outputs": [
        {
          "output_type": "execute_result",
          "data": {
            "text/plain": [
              "Index(['Stall_no', 'instock_date', 'Market_Category', 'Customer_name',\n",
              "       'Loyalty_customer', 'Product_Category', 'Grade', 'Demand',\n",
              "       'Discount_avail', 'charges_1', 'charges_2 (%)', 'Minimum_price',\n",
              "       'Maximum_price', 'Selling_Price', 'Year', 'Mon', 'date', 'day', 'hour'],\n",
              "      dtype='object')"
            ]
          },
          "metadata": {
            "tags": []
          },
          "execution_count": 14
        }
      ]
    },
    {
      "cell_type": "code",
      "metadata": {
        "colab": {
          "base_uri": "https://localhost:8080/",
          "height": 217
        },
        "id": "q4AWifujUEgN",
        "outputId": "4daaec27-46ac-48e7-e2ef-bb241c8a79a5"
      },
      "source": [
        "df.drop(columns=['Stall_no', 'instock_date', 'Market_Category', 'Customer_name',\n",
        "       'Loyalty_customer', 'Product_Category', 'Grade', 'Demand', 'charges_1', 'charges_2 (%)', \n",
        "        'Year', 'Mon', 'date', 'day', 'hour',\n",
        "       'days_left', 'unit_price1',\n",
        "       'unit_price2', 'unit_price3', 'unit_price4',  'crge1', 'crge2',\n",
        "       'crge3', 'crge4', 'crge12', 'crge23', 'crge34', 'crge45',\n",
        "       'crge112', 'crge222', 'crge322', 'crge422'],inplace=True)\n",
        "#df.drop(columns=['Stall_no', 'instock_date', 'Market_Category', 'Customer_name',\n",
        "#       'Loyalty_customer', 'Grade', 'Demand','charges_2 (%)', 'Mon', 'date', 'day', 'hour'],inplace=True)\n",
        "\n",
        "#df.drop(columns=['instock_date','Customer_name','Stall_no','Loyalty_customer','Demand', 'charges_2 (%)', 'Mon','day', 'hour','date','Market_Category'],inplace=True)\n",
        "\n",
        "df.head()"
      ],
      "execution_count": 20,
      "outputs": [
        {
          "output_type": "execute_result",
          "data": {
            "text/html": [
              "<div>\n",
              "<style scoped>\n",
              "    .dataframe tbody tr th:only-of-type {\n",
              "        vertical-align: middle;\n",
              "    }\n",
              "\n",
              "    .dataframe tbody tr th {\n",
              "        vertical-align: top;\n",
              "    }\n",
              "\n",
              "    .dataframe thead th {\n",
              "        text-align: right;\n",
              "    }\n",
              "</style>\n",
              "<table border=\"1\" class=\"dataframe\">\n",
              "  <thead>\n",
              "    <tr style=\"text-align: right;\">\n",
              "      <th></th>\n",
              "      <th>Discount_avail</th>\n",
              "      <th>Minimum_price</th>\n",
              "      <th>Maximum_price</th>\n",
              "      <th>Selling_Price</th>\n",
              "      <th>avg</th>\n",
              "      <th>avg1</th>\n",
              "      <th>sell</th>\n",
              "      <th>unit_price</th>\n",
              "      <th>crge</th>\n",
              "      <th>crge11</th>\n",
              "      <th>crge111</th>\n",
              "      <th>crge119</th>\n",
              "      <th>crge129</th>\n",
              "      <th>crge239</th>\n",
              "      <th>crge349</th>\n",
              "      <th>crge459</th>\n",
              "    </tr>\n",
              "  </thead>\n",
              "  <tbody>\n",
              "    <tr>\n",
              "      <th>0</th>\n",
              "      <td>0.0</td>\n",
              "      <td>2983.0</td>\n",
              "      <td>4713.0</td>\n",
              "      <td>4185.947700</td>\n",
              "      <td>3848.0</td>\n",
              "      <td>3848.0</td>\n",
              "      <td>4194.0</td>\n",
              "      <td>56.588235</td>\n",
              "      <td>14468.480</td>\n",
              "      <td>423.280</td>\n",
              "      <td>-10620.480</td>\n",
              "      <td>3424.720</td>\n",
              "      <td>3424.720</td>\n",
              "      <td>3732.660</td>\n",
              "      <td>2654.87</td>\n",
              "      <td>4194.57</td>\n",
              "    </tr>\n",
              "    <tr>\n",
              "      <th>1</th>\n",
              "      <td>0.0</td>\n",
              "      <td>7495.0</td>\n",
              "      <td>10352.0</td>\n",
              "      <td>9271.490256</td>\n",
              "      <td>8923.5</td>\n",
              "      <td>8923.5</td>\n",
              "      <td>9494.9</td>\n",
              "      <td>174.970588</td>\n",
              "      <td>35426.295</td>\n",
              "      <td>1070.820</td>\n",
              "      <td>-26502.795</td>\n",
              "      <td>7852.680</td>\n",
              "      <td>7852.680</td>\n",
              "      <td>8355.512</td>\n",
              "      <td>6595.60</td>\n",
              "      <td>9109.76</td>\n",
              "    </tr>\n",
              "    <tr>\n",
              "      <th>2</th>\n",
              "      <td>0.0</td>\n",
              "      <td>5752.0</td>\n",
              "      <td>7309.0</td>\n",
              "      <td>6785.701362</td>\n",
              "      <td>6530.5</td>\n",
              "      <td>6530.5</td>\n",
              "      <td>6841.9</td>\n",
              "      <td>653.050000</td>\n",
              "      <td>16326.250</td>\n",
              "      <td>587.745</td>\n",
              "      <td>-9795.750</td>\n",
              "      <td>5942.755</td>\n",
              "      <td>5942.755</td>\n",
              "      <td>6226.129</td>\n",
              "      <td>5234.32</td>\n",
              "      <td>6651.19</td>\n",
              "    </tr>\n",
              "    <tr>\n",
              "      <th>3</th>\n",
              "      <td>0.0</td>\n",
              "      <td>5090.0</td>\n",
              "      <td>20814.0</td>\n",
              "      <td>13028.917824</td>\n",
              "      <td>12952.0</td>\n",
              "      <td>12952.0</td>\n",
              "      <td>16096.8</td>\n",
              "      <td>269.833333</td>\n",
              "      <td>18650.880</td>\n",
              "      <td>1683.760</td>\n",
              "      <td>-5698.880</td>\n",
              "      <td>11268.240</td>\n",
              "      <td>11268.240</td>\n",
              "      <td>14004.216</td>\n",
              "      <td>4428.30</td>\n",
              "      <td>18108.18</td>\n",
              "    </tr>\n",
              "    <tr>\n",
              "      <th>4</th>\n",
              "      <td>1.0</td>\n",
              "      <td>2430.0</td>\n",
              "      <td>9261.0</td>\n",
              "      <td>906.553935</td>\n",
              "      <td>1169.1</td>\n",
              "      <td>5845.5</td>\n",
              "      <td>7211.7</td>\n",
              "      <td>33.402857</td>\n",
              "      <td>2466.801</td>\n",
              "      <td>46.764</td>\n",
              "      <td>-1297.701</td>\n",
              "      <td>1122.336</td>\n",
              "      <td>5611.680</td>\n",
              "      <td>6923.232</td>\n",
              "      <td>2332.80</td>\n",
              "      <td>8890.56</td>\n",
              "    </tr>\n",
              "  </tbody>\n",
              "</table>\n",
              "</div>"
            ],
            "text/plain": [
              "   Discount_avail  Minimum_price  Maximum_price  ...    crge239  crge349   crge459\n",
              "0             0.0         2983.0         4713.0  ...   3732.660  2654.87   4194.57\n",
              "1             0.0         7495.0        10352.0  ...   8355.512  6595.60   9109.76\n",
              "2             0.0         5752.0         7309.0  ...   6226.129  5234.32   6651.19\n",
              "3             0.0         5090.0        20814.0  ...  14004.216  4428.30  18108.18\n",
              "4             1.0         2430.0         9261.0  ...   6923.232  2332.80   8890.56\n",
              "\n",
              "[5 rows x 16 columns]"
            ]
          },
          "metadata": {
            "tags": []
          },
          "execution_count": 20
        }
      ]
    },
    {
      "cell_type": "code",
      "metadata": {
        "id": "_J3KW2oTHPyA"
      },
      "source": [
        "df = pd.get_dummies(df, columns=['Discount_avail','Product_Category','charges_1','Year'])"
      ],
      "execution_count": 13,
      "outputs": []
    },
    {
      "cell_type": "code",
      "metadata": {
        "colab": {
          "base_uri": "https://localhost:8080/"
        },
        "id": "WEztxCRnQVOS",
        "outputId": "e263fafc-686f-4b12-db35-3955b6862d33"
      },
      "source": [
        "Encoding = df.groupby('Grade')['charges_1'].nunique()\n",
        "Encoding"
      ],
      "execution_count": null,
      "outputs": [
        {
          "output_type": "execute_result",
          "data": {
            "text/plain": [
              "Grade\n",
              "0    486\n",
              "1    282\n",
              "2    391\n",
              "3    306\n",
              "Name: charges_1, dtype: int64"
            ]
          },
          "metadata": {
            "tags": []
          },
          "execution_count": 22
        }
      ]
    },
    {
      "cell_type": "code",
      "metadata": {
        "id": "2Hcuzg5mQdsd"
      },
      "source": [
        "Encoding = df.groupby('Market_Category')['Product_Category'].nunique()\n",
        "df['market_stall'] = df.Market_Category.map(Encoding)\n",
        "Encoding = df.groupby('Market_Category')['Grade'].nunique()\n",
        "df['market_grade'] = df.Market_Category.map(Encoding )\n",
        "Encoding = df.groupby('Market_Category')['Discount_avail'].nunique()\n",
        "df['market_Discount_avail'] = df.Market_Category.map(Encoding)\n",
        "Encoding = df.groupby('Market_Category')['charges_1'].nunique()\n",
        "df['market_charges_1'] = df.Market_Category.map(Encoding)"
      ],
      "execution_count": null,
      "outputs": []
    },
    {
      "cell_type": "code",
      "metadata": {
        "id": "pvGo3reyNAag"
      },
      "source": [
        "Encoding = df.groupby('Market_Category')['Stall_no'].nunique()\n",
        "df['market_stall'] = df.Market_Category.map(Encoding )\n",
        "\n",
        "Encoding = df.groupby('Market_Category')['Product_Category'].nunique()\n",
        "df['market_stall_Product_Category'] = df.Market_Category.map(Encoding)\n",
        "\n",
        "Encoding = df.groupby('Market_Category')['Minimum_price'].min()\n",
        "df['market_stall_Minimum_price_min'] = df.Market_Category.map(Encoding )\n",
        "Encoding = df.groupby('Market_Category')['Minimum_price'].max()\n",
        "df['market_stall_Minimum_price_max'] = df.Market_Category.map(Encoding )\n",
        "\n",
        "Encoding = df.groupby('Market_Category')['Maximum_price'].min()\n",
        "df['market_stall_Maximum_price_min'] = df.Market_Category.map(Encoding )\n",
        "Encoding = df.groupby('Market_Category')['Maximum_price'].max()\n",
        "df['market_stall_Maximum_price_max'] = df.Market_Category.map(Encoding )"
      ],
      "execution_count": null,
      "outputs": []
    },
    {
      "cell_type": "code",
      "metadata": {
        "id": "QpCPD5QC0q6a"
      },
      "source": [
        "TARGET_COL = 'Selling_Price'\n",
        "\n",
        "#train_proc, test_proc = dff[:df_train.shape[0]], dff[df_train.shape[0]:].reset_index(drop = True)\n",
        "train_proc = df[~df.Selling_Price.isna()]\n",
        "test_proc = df[df.Selling_Price.isna()]\n",
        "features = [c for c in train_proc.columns if c not in [TARGET_COL]]"
      ],
      "execution_count": 21,
      "outputs": []
    },
    {
      "cell_type": "code",
      "metadata": {
        "id": "FhewjJKX91Oz"
      },
      "source": [
        "y_train = train_proc['Selling_Price']\n",
        "train_pro = train_proc.drop(['Selling_Price'],axis=1)\n",
        "test_pro = test_proc.drop(['Selling_Price'],axis=1)\n",
        "\n",
        "#from sklearn.preprocessing import StandardScaler\n",
        "#scaler = StandardScaler()\n",
        "#train_pro = scaler.fit_transform(train_pro)\n",
        "#test_pro = scaler.transform(test_pro)"
      ],
      "execution_count": 22,
      "outputs": []
    },
    {
      "cell_type": "code",
      "metadata": {
        "colab": {
          "base_uri": "https://localhost:8080/"
        },
        "id": "I-FePaObkKpo",
        "outputId": "75cd4719-9053-42ac-c145-d5af4fdbf376"
      },
      "source": [
        "test_pro.shape"
      ],
      "execution_count": 23,
      "outputs": [
        {
          "output_type": "execute_result",
          "data": {
            "text/plain": [
              "(3430, 15)"
            ]
          },
          "metadata": {
            "tags": []
          },
          "execution_count": 23
        }
      ]
    },
    {
      "cell_type": "code",
      "metadata": {
        "id": "qd9BtllL8kTo"
      },
      "source": [
        "from sklearn.metrics import mean_squared_error, mean_squared_log_error\n",
        "\n",
        "def rmsle(y_true, y_pred):\n",
        "  return np.sqrt(mean_squared_log_error(y_true, y_pred))\n",
        "\n",
        "def av_metric(y_true, y_pred):\n",
        "  return 100 * np.sqrt(mean_squared_error(y_true, y_pred))"
      ],
      "execution_count": 24,
      "outputs": []
    },
    {
      "cell_type": "code",
      "metadata": {
        "id": "Crdy7zrN8vc0"
      },
      "source": [
        "from sklearn.model_selection import StratifiedKFold\n",
        "\n",
        "def run_clf_kfold(clf, train, test, features):\n",
        "\n",
        "  N_SPLITS = 5\n",
        "\n",
        "  oofs = np.zeros(len(train))\n",
        "  preds = np.zeros((len(test)))\n",
        "\n",
        "  target = train[TARGET_COL]\n",
        "\n",
        "  folds = StratifiedKFold(n_splits = N_SPLITS)\n",
        "  stratified_target = pd.qcut(train[TARGET_COL], 10, labels = False, duplicates='drop')\n",
        "\n",
        "  for fold_, (trn_idx, val_idx) in enumerate(folds.split(train, stratified_target)):\n",
        "    print(f'\\n------------- Fold {fold_ + 1} -------------')\n",
        "\n",
        "    ############# Get train, validation and test sets along with targets ################\n",
        "  \n",
        "    ### Training Set\n",
        "    X_trn, y_trn = train[features].iloc[trn_idx], target.iloc[trn_idx]\n",
        "\n",
        "    ### Validation Set\n",
        "    X_val, y_val = train[features].iloc[val_idx], target.iloc[val_idx]\n",
        "\n",
        "    ### Test Set\n",
        "    X_test = test[features]\n",
        "\n",
        "    ############# Scaling Data ################\n",
        "    \n",
        "\n",
        "\n",
        "    ############# Fitting and Predicting ################\n",
        "\n",
        "    _ = clf.fit(X_trn, y_trn)\n",
        "\n",
        "    ### Instead of directly predicting the classes we will obtain the probability of positive class.\n",
        "    preds_val = clf.predict(X_val)\n",
        "    preds_test = clf.predict(X_test)\n",
        "\n",
        "    fold_score = av_metric(y_val, preds_val)\n",
        "    print(f'\\nAV metric score for validation set is {fold_score}')\n",
        "\n",
        "    oofs[val_idx] = preds_val\n",
        "    preds += preds_test / N_SPLITS\n",
        "\n",
        "\n",
        "  oofs_score = av_metric(target, oofs)\n",
        "  print(f'\\n\\nAV metric for oofs is {oofs_score}')\n",
        "\n",
        "  return oofs, preds\n",
        "\n",
        "def run_gradient_boosting(clf, fit_params, train, test, features):\n",
        "  N_SPLITS = 5\n",
        "  oofs = np.zeros(len(train_proc))\n",
        "  preds = np.zeros((len(test_proc)))\n",
        "\n",
        "  target = train[TARGET_COL]\n",
        "\n",
        "  folds = StratifiedKFold(n_splits = N_SPLITS)\n",
        "  stratified_target = pd.qcut(train[TARGET_COL], 10, labels = False, duplicates='drop')\n",
        "\n",
        "  feature_importances = pd.DataFrame()\n",
        "\n",
        "  for fold_, (trn_idx, val_idx) in enumerate(folds.split(train, stratified_target)):\n",
        "    print(f'\\n------------- Fold {fold_ + 1} -------------')\n",
        "\n",
        "    ### Training Set\n",
        "    X_trn, y_trn = train[features].iloc[trn_idx], target.iloc[trn_idx]\n",
        "\n",
        "    ### Validation Set\n",
        "    X_val, y_val = train[features].iloc[val_idx], target.iloc[val_idx]\n",
        "\n",
        "    ### Test Set\n",
        "    X_test = test[features]\n",
        "\n",
        "    _ = clf.fit(X_trn, y_trn, eval_set = [(X_val, y_val)], **fit_params)\n",
        "\n",
        "    fold_importance = pd.DataFrame({'fold': fold_ + 1, 'feature': features, 'importance': clf.feature_importances_})\n",
        "    feature_importances = pd.concat([feature_importances, fold_importance], axis=0)\n",
        "\n",
        "    ### Instead of directly predicting the classes we will obtain the probability of positive class.\n",
        "    preds_val = clf.predict(X_val)\n",
        "    preds_test = clf.predict(X_test)\n",
        "\n",
        "    fold_score = av_metric(y_val, preds_val)\n",
        "    print(f'\\nAV metric score for validation set is {fold_score}')\n",
        "\n",
        "    oofs[val_idx] = preds_val\n",
        "    preds += preds_test / N_SPLITS\n",
        "\n",
        "\n",
        "  oofs_score = av_metric(target, oofs)\n",
        "  print(f'\\n\\nAV metric for oofs is {oofs_score}')\n",
        "\n",
        "  feature_importances = feature_importances.reset_index(drop = True)\n",
        "  fi = feature_importances.groupby('feature')['importance'].mean().sort_values(ascending = False)[:20][::-1]\n",
        "  fi.plot(kind = 'barh', figsize=(12, 6))\n",
        "\n",
        "  return oofs, preds, fi"
      ],
      "execution_count": 25,
      "outputs": []
    },
    {
      "cell_type": "code",
      "metadata": {
        "colab": {
          "base_uri": "https://localhost:8080/",
          "height": 494
        },
        "id": "QxX2QMvknkla",
        "outputId": "8dd7f7d6-b667-4a71-c146-d140a0327d7a"
      },
      "source": [
        "params = {'n_estimators':[10,50,100,300,500,700,1000],'max_depth':[15,30,50,100,200]}\n",
        "\n",
        "etc = ExtraTreesRegressor()\n",
        "grid = RandomizedSearchCV(etc, params,n_jobs=-1, verbose=10, cv=5,scoring ='r2')\n",
        "grid_result=grid.fit(train_pro,y_train)\n",
        "# summarize results\n",
        "print(\"Best: %f using %s\" % (grid_result.best_score_, grid_result.best_params_))\n",
        "means = grid_result.cv_results_['mean_test_score']\n",
        "stds = grid_result.cv_results_['std_test_score']\n",
        "params = grid_result.cv_results_['params']\n",
        "for mean, stdev, param in zip(means, stds, params):\n",
        "    print(\"%f (%f) with: %r\" % (mean, stdev, param))"
      ],
      "execution_count": 21,
      "outputs": [
        {
          "output_type": "stream",
          "text": [
            "Fitting 5 folds for each of 10 candidates, totalling 50 fits\n"
          ],
          "name": "stdout"
        },
        {
          "output_type": "stream",
          "text": [
            "[Parallel(n_jobs=-1)]: Using backend LokyBackend with 2 concurrent workers.\n",
            "[Parallel(n_jobs=-1)]: Done   1 tasks      | elapsed:    4.9s\n",
            "[Parallel(n_jobs=-1)]: Done   2 tasks      | elapsed:    4.9s\n",
            "[Parallel(n_jobs=-1)]: Done   3 tasks      | elapsed:    4.9s\n",
            "[Parallel(n_jobs=-1)]: Done   4 tasks      | elapsed:    4.9s\n"
          ],
          "name": "stderr"
        },
        {
          "output_type": "error",
          "ename": "KeyboardInterrupt",
          "evalue": "ignored",
          "traceback": [
            "\u001b[0;31m---------------------------------------------------------------------------\u001b[0m",
            "\u001b[0;31mKeyboardInterrupt\u001b[0m                         Traceback (most recent call last)",
            "\u001b[0;32m<ipython-input-21-ded323d5c14a>\u001b[0m in \u001b[0;36m<module>\u001b[0;34m()\u001b[0m\n\u001b[1;32m      3\u001b[0m \u001b[0metc\u001b[0m \u001b[0;34m=\u001b[0m \u001b[0mExtraTreesRegressor\u001b[0m\u001b[0;34m(\u001b[0m\u001b[0;34m)\u001b[0m\u001b[0;34m\u001b[0m\u001b[0;34m\u001b[0m\u001b[0m\n\u001b[1;32m      4\u001b[0m \u001b[0mgrid\u001b[0m \u001b[0;34m=\u001b[0m \u001b[0mRandomizedSearchCV\u001b[0m\u001b[0;34m(\u001b[0m\u001b[0metc\u001b[0m\u001b[0;34m,\u001b[0m \u001b[0mparams\u001b[0m\u001b[0;34m,\u001b[0m\u001b[0mn_jobs\u001b[0m\u001b[0;34m=\u001b[0m\u001b[0;34m-\u001b[0m\u001b[0;36m1\u001b[0m\u001b[0;34m,\u001b[0m \u001b[0mverbose\u001b[0m\u001b[0;34m=\u001b[0m\u001b[0;36m10\u001b[0m\u001b[0;34m,\u001b[0m \u001b[0mcv\u001b[0m\u001b[0;34m=\u001b[0m\u001b[0;36m5\u001b[0m\u001b[0;34m,\u001b[0m\u001b[0mscoring\u001b[0m \u001b[0;34m=\u001b[0m\u001b[0;34m'r2'\u001b[0m\u001b[0;34m)\u001b[0m\u001b[0;34m\u001b[0m\u001b[0;34m\u001b[0m\u001b[0m\n\u001b[0;32m----> 5\u001b[0;31m \u001b[0mgrid_result\u001b[0m\u001b[0;34m=\u001b[0m\u001b[0mgrid\u001b[0m\u001b[0;34m.\u001b[0m\u001b[0mfit\u001b[0m\u001b[0;34m(\u001b[0m\u001b[0mtrain_pro\u001b[0m\u001b[0;34m,\u001b[0m\u001b[0my_train\u001b[0m\u001b[0;34m)\u001b[0m\u001b[0;34m\u001b[0m\u001b[0;34m\u001b[0m\u001b[0m\n\u001b[0m\u001b[1;32m      6\u001b[0m \u001b[0;31m# summarize results\u001b[0m\u001b[0;34m\u001b[0m\u001b[0;34m\u001b[0m\u001b[0;34m\u001b[0m\u001b[0m\n\u001b[1;32m      7\u001b[0m \u001b[0mprint\u001b[0m\u001b[0;34m(\u001b[0m\u001b[0;34m\"Best: %f using %s\"\u001b[0m \u001b[0;34m%\u001b[0m \u001b[0;34m(\u001b[0m\u001b[0mgrid_result\u001b[0m\u001b[0;34m.\u001b[0m\u001b[0mbest_score_\u001b[0m\u001b[0;34m,\u001b[0m \u001b[0mgrid_result\u001b[0m\u001b[0;34m.\u001b[0m\u001b[0mbest_params_\u001b[0m\u001b[0;34m)\u001b[0m\u001b[0;34m)\u001b[0m\u001b[0;34m\u001b[0m\u001b[0;34m\u001b[0m\u001b[0m\n",
            "\u001b[0;32m/usr/local/lib/python3.6/dist-packages/sklearn/model_selection/_search.py\u001b[0m in \u001b[0;36mfit\u001b[0;34m(self, X, y, groups, **fit_params)\u001b[0m\n\u001b[1;32m    708\u001b[0m                 \u001b[0;32mreturn\u001b[0m \u001b[0mresults\u001b[0m\u001b[0;34m\u001b[0m\u001b[0;34m\u001b[0m\u001b[0m\n\u001b[1;32m    709\u001b[0m \u001b[0;34m\u001b[0m\u001b[0m\n\u001b[0;32m--> 710\u001b[0;31m             \u001b[0mself\u001b[0m\u001b[0;34m.\u001b[0m\u001b[0m_run_search\u001b[0m\u001b[0;34m(\u001b[0m\u001b[0mevaluate_candidates\u001b[0m\u001b[0;34m)\u001b[0m\u001b[0;34m\u001b[0m\u001b[0;34m\u001b[0m\u001b[0m\n\u001b[0m\u001b[1;32m    711\u001b[0m \u001b[0;34m\u001b[0m\u001b[0m\n\u001b[1;32m    712\u001b[0m         \u001b[0;31m# For multi-metric evaluation, store the best_index_, best_params_ and\u001b[0m\u001b[0;34m\u001b[0m\u001b[0;34m\u001b[0m\u001b[0;34m\u001b[0m\u001b[0m\n",
            "\u001b[0;32m/usr/local/lib/python3.6/dist-packages/sklearn/model_selection/_search.py\u001b[0m in \u001b[0;36m_run_search\u001b[0;34m(self, evaluate_candidates)\u001b[0m\n\u001b[1;32m   1482\u001b[0m         evaluate_candidates(ParameterSampler(\n\u001b[1;32m   1483\u001b[0m             \u001b[0mself\u001b[0m\u001b[0;34m.\u001b[0m\u001b[0mparam_distributions\u001b[0m\u001b[0;34m,\u001b[0m \u001b[0mself\u001b[0m\u001b[0;34m.\u001b[0m\u001b[0mn_iter\u001b[0m\u001b[0;34m,\u001b[0m\u001b[0;34m\u001b[0m\u001b[0;34m\u001b[0m\u001b[0m\n\u001b[0;32m-> 1484\u001b[0;31m             random_state=self.random_state))\n\u001b[0m",
            "\u001b[0;32m/usr/local/lib/python3.6/dist-packages/sklearn/model_selection/_search.py\u001b[0m in \u001b[0;36mevaluate_candidates\u001b[0;34m(candidate_params)\u001b[0m\n\u001b[1;32m    687\u001b[0m                                \u001b[0;32mfor\u001b[0m \u001b[0mparameters\u001b[0m\u001b[0;34m,\u001b[0m \u001b[0;34m(\u001b[0m\u001b[0mtrain\u001b[0m\u001b[0;34m,\u001b[0m \u001b[0mtest\u001b[0m\u001b[0;34m)\u001b[0m\u001b[0;34m\u001b[0m\u001b[0;34m\u001b[0m\u001b[0m\n\u001b[1;32m    688\u001b[0m                                in product(candidate_params,\n\u001b[0;32m--> 689\u001b[0;31m                                           cv.split(X, y, groups)))\n\u001b[0m\u001b[1;32m    690\u001b[0m \u001b[0;34m\u001b[0m\u001b[0m\n\u001b[1;32m    691\u001b[0m                 \u001b[0;32mif\u001b[0m \u001b[0mlen\u001b[0m\u001b[0;34m(\u001b[0m\u001b[0mout\u001b[0m\u001b[0;34m)\u001b[0m \u001b[0;34m<\u001b[0m \u001b[0;36m1\u001b[0m\u001b[0;34m:\u001b[0m\u001b[0;34m\u001b[0m\u001b[0;34m\u001b[0m\u001b[0m\n",
            "\u001b[0;32m/usr/local/lib/python3.6/dist-packages/joblib/parallel.py\u001b[0m in \u001b[0;36m__call__\u001b[0;34m(self, iterable)\u001b[0m\n\u001b[1;32m   1059\u001b[0m \u001b[0;34m\u001b[0m\u001b[0m\n\u001b[1;32m   1060\u001b[0m             \u001b[0;32mwith\u001b[0m \u001b[0mself\u001b[0m\u001b[0;34m.\u001b[0m\u001b[0m_backend\u001b[0m\u001b[0;34m.\u001b[0m\u001b[0mretrieval_context\u001b[0m\u001b[0;34m(\u001b[0m\u001b[0;34m)\u001b[0m\u001b[0;34m:\u001b[0m\u001b[0;34m\u001b[0m\u001b[0;34m\u001b[0m\u001b[0m\n\u001b[0;32m-> 1061\u001b[0;31m                 \u001b[0mself\u001b[0m\u001b[0;34m.\u001b[0m\u001b[0mretrieve\u001b[0m\u001b[0;34m(\u001b[0m\u001b[0;34m)\u001b[0m\u001b[0;34m\u001b[0m\u001b[0;34m\u001b[0m\u001b[0m\n\u001b[0m\u001b[1;32m   1062\u001b[0m             \u001b[0;31m# Make sure that we get a last message telling us we are done\u001b[0m\u001b[0;34m\u001b[0m\u001b[0;34m\u001b[0m\u001b[0;34m\u001b[0m\u001b[0m\n\u001b[1;32m   1063\u001b[0m             \u001b[0melapsed_time\u001b[0m \u001b[0;34m=\u001b[0m \u001b[0mtime\u001b[0m\u001b[0;34m.\u001b[0m\u001b[0mtime\u001b[0m\u001b[0;34m(\u001b[0m\u001b[0;34m)\u001b[0m \u001b[0;34m-\u001b[0m \u001b[0mself\u001b[0m\u001b[0;34m.\u001b[0m\u001b[0m_start_time\u001b[0m\u001b[0;34m\u001b[0m\u001b[0;34m\u001b[0m\u001b[0m\n",
            "\u001b[0;32m/usr/local/lib/python3.6/dist-packages/joblib/parallel.py\u001b[0m in \u001b[0;36mretrieve\u001b[0;34m(self)\u001b[0m\n\u001b[1;32m    938\u001b[0m             \u001b[0;32mtry\u001b[0m\u001b[0;34m:\u001b[0m\u001b[0;34m\u001b[0m\u001b[0;34m\u001b[0m\u001b[0m\n\u001b[1;32m    939\u001b[0m                 \u001b[0;32mif\u001b[0m \u001b[0mgetattr\u001b[0m\u001b[0;34m(\u001b[0m\u001b[0mself\u001b[0m\u001b[0;34m.\u001b[0m\u001b[0m_backend\u001b[0m\u001b[0;34m,\u001b[0m \u001b[0;34m'supports_timeout'\u001b[0m\u001b[0;34m,\u001b[0m \u001b[0;32mFalse\u001b[0m\u001b[0;34m)\u001b[0m\u001b[0;34m:\u001b[0m\u001b[0;34m\u001b[0m\u001b[0;34m\u001b[0m\u001b[0m\n\u001b[0;32m--> 940\u001b[0;31m                     \u001b[0mself\u001b[0m\u001b[0;34m.\u001b[0m\u001b[0m_output\u001b[0m\u001b[0;34m.\u001b[0m\u001b[0mextend\u001b[0m\u001b[0;34m(\u001b[0m\u001b[0mjob\u001b[0m\u001b[0;34m.\u001b[0m\u001b[0mget\u001b[0m\u001b[0;34m(\u001b[0m\u001b[0mtimeout\u001b[0m\u001b[0;34m=\u001b[0m\u001b[0mself\u001b[0m\u001b[0;34m.\u001b[0m\u001b[0mtimeout\u001b[0m\u001b[0;34m)\u001b[0m\u001b[0;34m)\u001b[0m\u001b[0;34m\u001b[0m\u001b[0;34m\u001b[0m\u001b[0m\n\u001b[0m\u001b[1;32m    941\u001b[0m                 \u001b[0;32melse\u001b[0m\u001b[0;34m:\u001b[0m\u001b[0;34m\u001b[0m\u001b[0;34m\u001b[0m\u001b[0m\n\u001b[1;32m    942\u001b[0m                     \u001b[0mself\u001b[0m\u001b[0;34m.\u001b[0m\u001b[0m_output\u001b[0m\u001b[0;34m.\u001b[0m\u001b[0mextend\u001b[0m\u001b[0;34m(\u001b[0m\u001b[0mjob\u001b[0m\u001b[0;34m.\u001b[0m\u001b[0mget\u001b[0m\u001b[0;34m(\u001b[0m\u001b[0;34m)\u001b[0m\u001b[0;34m)\u001b[0m\u001b[0;34m\u001b[0m\u001b[0;34m\u001b[0m\u001b[0m\n",
            "\u001b[0;32m/usr/local/lib/python3.6/dist-packages/joblib/_parallel_backends.py\u001b[0m in \u001b[0;36mwrap_future_result\u001b[0;34m(future, timeout)\u001b[0m\n\u001b[1;32m    540\u001b[0m         AsyncResults.get from multiprocessing.\"\"\"\n\u001b[1;32m    541\u001b[0m         \u001b[0;32mtry\u001b[0m\u001b[0;34m:\u001b[0m\u001b[0;34m\u001b[0m\u001b[0;34m\u001b[0m\u001b[0m\n\u001b[0;32m--> 542\u001b[0;31m             \u001b[0;32mreturn\u001b[0m \u001b[0mfuture\u001b[0m\u001b[0;34m.\u001b[0m\u001b[0mresult\u001b[0m\u001b[0;34m(\u001b[0m\u001b[0mtimeout\u001b[0m\u001b[0;34m=\u001b[0m\u001b[0mtimeout\u001b[0m\u001b[0;34m)\u001b[0m\u001b[0;34m\u001b[0m\u001b[0;34m\u001b[0m\u001b[0m\n\u001b[0m\u001b[1;32m    543\u001b[0m         \u001b[0;32mexcept\u001b[0m \u001b[0mCfTimeoutError\u001b[0m \u001b[0;32mas\u001b[0m \u001b[0me\u001b[0m\u001b[0;34m:\u001b[0m\u001b[0;34m\u001b[0m\u001b[0;34m\u001b[0m\u001b[0m\n\u001b[1;32m    544\u001b[0m             \u001b[0;32mraise\u001b[0m \u001b[0mTimeoutError\u001b[0m \u001b[0;32mfrom\u001b[0m \u001b[0me\u001b[0m\u001b[0;34m\u001b[0m\u001b[0;34m\u001b[0m\u001b[0m\n",
            "\u001b[0;32m/usr/lib/python3.6/concurrent/futures/_base.py\u001b[0m in \u001b[0;36mresult\u001b[0;34m(self, timeout)\u001b[0m\n\u001b[1;32m    425\u001b[0m                 \u001b[0;32mreturn\u001b[0m \u001b[0mself\u001b[0m\u001b[0;34m.\u001b[0m\u001b[0m__get_result\u001b[0m\u001b[0;34m(\u001b[0m\u001b[0;34m)\u001b[0m\u001b[0;34m\u001b[0m\u001b[0;34m\u001b[0m\u001b[0m\n\u001b[1;32m    426\u001b[0m \u001b[0;34m\u001b[0m\u001b[0m\n\u001b[0;32m--> 427\u001b[0;31m             \u001b[0mself\u001b[0m\u001b[0;34m.\u001b[0m\u001b[0m_condition\u001b[0m\u001b[0;34m.\u001b[0m\u001b[0mwait\u001b[0m\u001b[0;34m(\u001b[0m\u001b[0mtimeout\u001b[0m\u001b[0;34m)\u001b[0m\u001b[0;34m\u001b[0m\u001b[0;34m\u001b[0m\u001b[0m\n\u001b[0m\u001b[1;32m    428\u001b[0m \u001b[0;34m\u001b[0m\u001b[0m\n\u001b[1;32m    429\u001b[0m             \u001b[0;32mif\u001b[0m \u001b[0mself\u001b[0m\u001b[0;34m.\u001b[0m\u001b[0m_state\u001b[0m \u001b[0;32min\u001b[0m \u001b[0;34m[\u001b[0m\u001b[0mCANCELLED\u001b[0m\u001b[0;34m,\u001b[0m \u001b[0mCANCELLED_AND_NOTIFIED\u001b[0m\u001b[0;34m]\u001b[0m\u001b[0;34m:\u001b[0m\u001b[0;34m\u001b[0m\u001b[0;34m\u001b[0m\u001b[0m\n",
            "\u001b[0;32m/usr/lib/python3.6/threading.py\u001b[0m in \u001b[0;36mwait\u001b[0;34m(self, timeout)\u001b[0m\n\u001b[1;32m    293\u001b[0m         \u001b[0;32mtry\u001b[0m\u001b[0;34m:\u001b[0m    \u001b[0;31m# restore state no matter what (e.g., KeyboardInterrupt)\u001b[0m\u001b[0;34m\u001b[0m\u001b[0;34m\u001b[0m\u001b[0m\n\u001b[1;32m    294\u001b[0m             \u001b[0;32mif\u001b[0m \u001b[0mtimeout\u001b[0m \u001b[0;32mis\u001b[0m \u001b[0;32mNone\u001b[0m\u001b[0;34m:\u001b[0m\u001b[0;34m\u001b[0m\u001b[0;34m\u001b[0m\u001b[0m\n\u001b[0;32m--> 295\u001b[0;31m                 \u001b[0mwaiter\u001b[0m\u001b[0;34m.\u001b[0m\u001b[0macquire\u001b[0m\u001b[0;34m(\u001b[0m\u001b[0;34m)\u001b[0m\u001b[0;34m\u001b[0m\u001b[0;34m\u001b[0m\u001b[0m\n\u001b[0m\u001b[1;32m    296\u001b[0m                 \u001b[0mgotit\u001b[0m \u001b[0;34m=\u001b[0m \u001b[0;32mTrue\u001b[0m\u001b[0;34m\u001b[0m\u001b[0;34m\u001b[0m\u001b[0m\n\u001b[1;32m    297\u001b[0m             \u001b[0;32melse\u001b[0m\u001b[0;34m:\u001b[0m\u001b[0;34m\u001b[0m\u001b[0;34m\u001b[0m\u001b[0m\n",
            "\u001b[0;31mKeyboardInterrupt\u001b[0m: "
          ]
        }
      ]
    },
    {
      "cell_type": "code",
      "metadata": {
        "colab": {
          "background_save": true,
          "base_uri": "https://localhost:8080/"
        },
        "id": "0RFcIXWZ5WyM",
        "outputId": "2340126e-91f8-4b06-b9db-74320078ba42"
      },
      "source": [
        "clf = ExtraTreesRegressor(n_estimators=500,max_depth=100)\n",
        "        \n",
        "\n",
        "dtet_oofs, dtet_preds = run_clf_kfold(clf, train_proc, test_proc, features)"
      ],
      "execution_count": null,
      "outputs": [
        {
          "output_type": "stream",
          "text": [
            "\n",
            "------------- Fold 1 -------------\n",
            "\n",
            "AV metric score for validation set is 51.22898647752733\n",
            "\n",
            "------------- Fold 2 -------------\n",
            "\n",
            "AV metric score for validation set is 49.73800506493346\n",
            "\n",
            "------------- Fold 3 -------------\n",
            "\n",
            "AV metric score for validation set is 82.90142430990521\n",
            "\n",
            "------------- Fold 4 -------------\n",
            "\n",
            "AV metric score for validation set is 51.073553655344064\n",
            "\n",
            "------------- Fold 5 -------------\n",
            "\n",
            "AV metric score for validation set is 45.2287926053703\n",
            "\n",
            "\n",
            "AV metric for oofs is 57.66583716154372\n"
          ],
          "name": "stdout"
        }
      ]
    },
    {
      "cell_type": "code",
      "metadata": {
        "colab": {
          "background_save": true,
          "base_uri": "https://localhost:8080/"
        },
        "id": "_YCj92rp6o72",
        "outputId": "8187a6db-edfa-4c6c-dc26-947a126ab521"
      },
      "source": [
        "dtet_preds"
      ],
      "execution_count": null,
      "outputs": [
        {
          "output_type": "execute_result",
          "data": {
            "text/plain": [
              "array([ 3307.55501139,  1948.89773576, 11792.97403693, ...,\n",
              "        5957.18851623,  3614.01255075,  1007.38953976])"
            ]
          },
          "metadata": {
            "tags": []
          },
          "execution_count": 0
        }
      ]
    },
    {
      "cell_type": "code",
      "metadata": {
        "colab": {
          "base_uri": "https://localhost:8080/",
          "height": 16
        },
        "id": "fOOcINRh34CK",
        "outputId": "fba0e143-db82-468b-a242-fc9c04859506"
      },
      "source": [
        "#y_pred =np.expm1(dt_preds)\n",
        "y_pred = dtet_preds.round(2)\n",
        "test_pr = test_proc\n",
        "test_pr['Product_id'] = df_test.index \n",
        "product_id = test_pr['Product_id']\n",
        "Submission=pd.DataFrame(product_id,columns=['Product_id'])\n",
        "Submission.reset_index(drop=True, inplace=True)\n",
        "Submission['Selling_Price'] =y_pred\n",
        "Submission.to_csv('carniwal206.csv')\n",
        "files.download('carniwal206.csv')"
      ],
      "execution_count": null,
      "outputs": [
        {
          "output_type": "display_data",
          "data": {
            "application/javascript": [
              "\n",
              "    async function download(id, filename, size) {\n",
              "      if (!google.colab.kernel.accessAllowed) {\n",
              "        return;\n",
              "      }\n",
              "      const div = document.createElement('div');\n",
              "      const label = document.createElement('label');\n",
              "      label.textContent = `Downloading \"${filename}\": `;\n",
              "      div.appendChild(label);\n",
              "      const progress = document.createElement('progress');\n",
              "      progress.max = size;\n",
              "      div.appendChild(progress);\n",
              "      document.body.appendChild(div);\n",
              "\n",
              "      const buffers = [];\n",
              "      let downloaded = 0;\n",
              "\n",
              "      const channel = await google.colab.kernel.comms.open(id);\n",
              "      // Send a message to notify the kernel that we're ready.\n",
              "      channel.send({})\n",
              "\n",
              "      for await (const message of channel.messages) {\n",
              "        // Send a message to notify the kernel that we're ready.\n",
              "        channel.send({})\n",
              "        if (message.buffers) {\n",
              "          for (const buffer of message.buffers) {\n",
              "            buffers.push(buffer);\n",
              "            downloaded += buffer.byteLength;\n",
              "            progress.value = downloaded;\n",
              "          }\n",
              "        }\n",
              "      }\n",
              "      const blob = new Blob(buffers, {type: 'application/binary'});\n",
              "      const a = document.createElement('a');\n",
              "      a.href = window.URL.createObjectURL(blob);\n",
              "      a.download = filename;\n",
              "      div.appendChild(a);\n",
              "      a.click();\n",
              "      div.remove();\n",
              "    }\n",
              "  "
            ],
            "text/plain": [
              "<IPython.core.display.Javascript object>"
            ]
          },
          "metadata": {
            "tags": []
          }
        },
        {
          "output_type": "display_data",
          "data": {
            "application/javascript": [
              "download(\"download_0029b2ca-f495-4ab5-b115-b7bc7c475d47\", \"carniwal206.csv\", 101214)"
            ],
            "text/plain": [
              "<IPython.core.display.Javascript object>"
            ]
          },
          "metadata": {
            "tags": []
          }
        }
      ]
    },
    {
      "cell_type": "code",
      "metadata": {
        "colab": {
          "background_save": true,
          "base_uri": "https://localhost:8080/"
        },
        "id": "Rkg249PVf7IF",
        "outputId": "a0d1cb72-bc3e-4feb-d9d5-d11c5534333a"
      },
      "source": [
        "params = {'n_estimators':[10,50,100,300,500,700,1000],'max_depth':[15,30,50,100,200]}\n",
        "\n",
        "etc = RandomForestRegressor()\n",
        "grid = RandomizedSearchCV(etc, params,n_jobs=-1, verbose=10, cv=5,scoring ='r2')\n",
        "grid_result=grid.fit(train_pro,y_train)\n",
        "# summarize results\n",
        "print(\"Best: %f using %s\" % (grid_result.best_score_, grid_result.best_params_))\n",
        "means = grid_result.cv_results_['mean_test_score']\n",
        "stds = grid_result.cv_results_['std_test_score']\n",
        "params = grid_result.cv_results_['params']\n",
        "for mean, stdev, param in zip(means, stds, params):\n",
        "    print(\"%f (%f) with: %r\" % (mean, stdev, param))"
      ],
      "execution_count": null,
      "outputs": [
        {
          "output_type": "stream",
          "text": [
            "Fitting 5 folds for each of 10 candidates, totalling 50 fits\n"
          ],
          "name": "stdout"
        },
        {
          "output_type": "stream",
          "text": [
            "[Parallel(n_jobs=-1)]: Using backend LokyBackend with 2 concurrent workers.\n",
            "[Parallel(n_jobs=-1)]: Done   1 tasks      | elapsed:    2.9s\n",
            "[Parallel(n_jobs=-1)]: Done   4 tasks      | elapsed:    5.8s\n",
            "[Parallel(n_jobs=-1)]: Done   9 tasks      | elapsed:   14.3s\n",
            "[Parallel(n_jobs=-1)]: Done  14 tasks      | elapsed:   15.2s\n",
            "[Parallel(n_jobs=-1)]: Done  21 tasks      | elapsed:   38.1s\n",
            "[Parallel(n_jobs=-1)]: Done  28 tasks      | elapsed:  1.2min\n",
            "[Parallel(n_jobs=-1)]: Done  37 tasks      | elapsed:  2.4min\n",
            "[Parallel(n_jobs=-1)]: Done  46 tasks      | elapsed:  4.0min\n",
            "[Parallel(n_jobs=-1)]: Done  50 out of  50 | elapsed:  4.1min finished\n"
          ],
          "name": "stderr"
        },
        {
          "output_type": "stream",
          "text": [
            "Best: 0.997053 using {'n_estimators': 500, 'max_depth': 30}\n",
            "0.996941 (0.002348) with: {'n_estimators': 100, 'max_depth': 200}\n",
            "0.996960 (0.002222) with: {'n_estimators': 100, 'max_depth': 100}\n",
            "0.996946 (0.001985) with: {'n_estimators': 10, 'max_depth': 200}\n",
            "0.997001 (0.002204) with: {'n_estimators': 300, 'max_depth': 200}\n",
            "0.996941 (0.002356) with: {'n_estimators': 100, 'max_depth': 50}\n",
            "0.997007 (0.002189) with: {'n_estimators': 500, 'max_depth': 200}\n",
            "0.997053 (0.002092) with: {'n_estimators': 500, 'max_depth': 30}\n",
            "0.996904 (0.002372) with: {'n_estimators': 1000, 'max_depth': 200}\n",
            "0.996900 (0.002385) with: {'n_estimators': 700, 'max_depth': 30}\n",
            "0.996891 (0.002402) with: {'n_estimators': 100, 'max_depth': 15}\n"
          ],
          "name": "stdout"
        }
      ]
    },
    {
      "cell_type": "code",
      "metadata": {
        "colab": {
          "base_uri": "https://localhost:8080/"
        },
        "id": "NNsy9nrNgFCL",
        "outputId": "58f1647a-5b91-43ef-db2f-9216bb9c70c5"
      },
      "source": [
        "clf = RandomForestRegressor(n_estimators=50,max_depth=15)\n",
        "        \n",
        "\n",
        "dtrf_oofs, dtrf_preds = run_clf_kfold(clf, train_proc, test_proc, features)"
      ],
      "execution_count": null,
      "outputs": [
        {
          "output_type": "stream",
          "text": [
            "\n",
            "------------- Fold 1 -------------\n",
            "\n",
            "AV metric score for validation set is 23712.457921911864\n",
            "\n",
            "------------- Fold 2 -------------\n",
            "\n",
            "AV metric score for validation set is 13382.625057461411\n",
            "\n",
            "------------- Fold 3 -------------\n",
            "\n",
            "AV metric score for validation set is 10902.424000836316\n",
            "\n",
            "------------- Fold 4 -------------\n",
            "\n",
            "AV metric score for validation set is 16749.661867829585\n",
            "\n",
            "------------- Fold 5 -------------\n",
            "\n",
            "AV metric score for validation set is 12069.598334925357\n",
            "\n",
            "\n",
            "AV metric for oofs is 16041.940598028814\n"
          ],
          "name": "stdout"
        }
      ]
    },
    {
      "cell_type": "code",
      "metadata": {
        "colab": {
          "base_uri": "https://localhost:8080/"
        },
        "id": "_y_Gp0IYK8nA",
        "outputId": "5c11ab95-6e65-48e1-f134-66eb3bb95911"
      },
      "source": [
        "dtrf_preds"
      ],
      "execution_count": null,
      "outputs": [
        {
          "output_type": "execute_result",
          "data": {
            "text/plain": [
              "array([ 3302.55099746,  1972.16395695, 11774.32112896, ...,\n",
              "        5920.22594386,  3607.7124491 ,  1011.80026537])"
            ]
          },
          "metadata": {
            "tags": []
          },
          "execution_count": 33
        }
      ]
    },
    {
      "cell_type": "code",
      "metadata": {
        "colab": {
          "base_uri": "https://localhost:8080/",
          "height": 16
        },
        "id": "xkBMl4q0K0Qw",
        "outputId": "bafe13f0-949e-4640-ac8c-d2532da4f288"
      },
      "source": [
        "#y_pred =np.expm1(dt_preds)\n",
        "y_pred = dtrf_preds.round(2)\n",
        "test_pr = test_proc\n",
        "test_pr['Product_id'] = df_test.index \n",
        "product_id = test_pr['Product_id']\n",
        "Submission=pd.DataFrame(product_id,columns=['Product_id'])\n",
        "Submission.reset_index(drop=True, inplace=True)\n",
        "Submission['Selling_Price'] =y_pred\n",
        "Submission.to_csv('carniwal202.csv')\n",
        "files.download('carniwal202.csv')"
      ],
      "execution_count": null,
      "outputs": [
        {
          "output_type": "display_data",
          "data": {
            "application/javascript": [
              "\n",
              "    async function download(id, filename, size) {\n",
              "      if (!google.colab.kernel.accessAllowed) {\n",
              "        return;\n",
              "      }\n",
              "      const div = document.createElement('div');\n",
              "      const label = document.createElement('label');\n",
              "      label.textContent = `Downloading \"${filename}\": `;\n",
              "      div.appendChild(label);\n",
              "      const progress = document.createElement('progress');\n",
              "      progress.max = size;\n",
              "      div.appendChild(progress);\n",
              "      document.body.appendChild(div);\n",
              "\n",
              "      const buffers = [];\n",
              "      let downloaded = 0;\n",
              "\n",
              "      const channel = await google.colab.kernel.comms.open(id);\n",
              "      // Send a message to notify the kernel that we're ready.\n",
              "      channel.send({})\n",
              "\n",
              "      for await (const message of channel.messages) {\n",
              "        // Send a message to notify the kernel that we're ready.\n",
              "        channel.send({})\n",
              "        if (message.buffers) {\n",
              "          for (const buffer of message.buffers) {\n",
              "            buffers.push(buffer);\n",
              "            downloaded += buffer.byteLength;\n",
              "            progress.value = downloaded;\n",
              "          }\n",
              "        }\n",
              "      }\n",
              "      const blob = new Blob(buffers, {type: 'application/binary'});\n",
              "      const a = document.createElement('a');\n",
              "      a.href = window.URL.createObjectURL(blob);\n",
              "      a.download = filename;\n",
              "      div.appendChild(a);\n",
              "      a.click();\n",
              "      div.remove();\n",
              "    }\n",
              "  "
            ],
            "text/plain": [
              "<IPython.core.display.Javascript object>"
            ]
          },
          "metadata": {
            "tags": []
          }
        },
        {
          "output_type": "display_data",
          "data": {
            "application/javascript": [
              "download(\"download_91f730e6-2c21-480b-b495-1055f17e9f82\", \"carniwal202.csv\", 101226)"
            ],
            "text/plain": [
              "<IPython.core.display.Javascript object>"
            ]
          },
          "metadata": {
            "tags": []
          }
        }
      ]
    },
    {
      "cell_type": "code",
      "metadata": {
        "colab": {
          "background_save": true,
          "base_uri": "https://localhost:8080/"
        },
        "id": "X1LR07cqnsRO",
        "outputId": "6ba1b1d5-5485-4f1a-a11f-277302d041ac"
      },
      "source": [
        "params = {'n_estimators':[10,50,100,300,500,700,1000]}\n",
        "\n",
        "etc = BaggingRegressor()\n",
        "grid = RandomizedSearchCV(etc, params,n_jobs=-1, verbose=10, cv=5,scoring ='r2')\n",
        "grid_result=grid.fit(train_pro,y_train)\n",
        "# summarize results\n",
        "print(\"Best: %f using %s\" % (grid_result.best_score_, grid_result.best_params_))\n",
        "means = grid_result.cv_results_['mean_test_score']\n",
        "stds = grid_result.cv_results_['std_test_score']\n",
        "params = grid_result.cv_results_['params']\n",
        "for mean, stdev, param in zip(means, stds, params):\n",
        "    print(\"%f (%f) with: %r\" % (mean, stdev, param))"
      ],
      "execution_count": null,
      "outputs": [
        {
          "output_type": "stream",
          "text": [
            "Fitting 5 folds for each of 7 candidates, totalling 35 fits\n"
          ],
          "name": "stdout"
        },
        {
          "output_type": "stream",
          "text": [
            "[Parallel(n_jobs=-1)]: Using backend LokyBackend with 2 concurrent workers.\n",
            "[Parallel(n_jobs=-1)]: Done   1 tasks      | elapsed:    0.4s\n",
            "[Parallel(n_jobs=-1)]: Done   4 tasks      | elapsed:    0.9s\n",
            "[Parallel(n_jobs=-1)]: Done   9 tasks      | elapsed:    5.4s\n",
            "[Parallel(n_jobs=-1)]: Done  14 tasks      | elapsed:   15.3s\n",
            "[Parallel(n_jobs=-1)]: Done  21 tasks      | elapsed:  1.1min\n",
            "[Parallel(n_jobs=-1)]: Done  28 tasks      | elapsed:  2.5min\n",
            "[Parallel(n_jobs=-1)]: Done  35 out of  35 | elapsed:  4.6min finished\n"
          ],
          "name": "stderr"
        },
        {
          "output_type": "stream",
          "text": [
            "Best: 0.997078 using {'n_estimators': 50}\n",
            "0.996294 (0.003143) with: {'n_estimators': 10}\n",
            "0.997078 (0.001945) with: {'n_estimators': 50}\n",
            "0.997065 (0.001995) with: {'n_estimators': 100}\n",
            "0.996964 (0.002078) with: {'n_estimators': 300}\n",
            "0.996904 (0.002106) with: {'n_estimators': 500}\n",
            "0.996920 (0.002166) with: {'n_estimators': 700}\n",
            "0.996914 (0.002196) with: {'n_estimators': 1000}\n"
          ],
          "name": "stdout"
        }
      ]
    },
    {
      "cell_type": "code",
      "metadata": {
        "colab": {
          "base_uri": "https://localhost:8080/"
        },
        "id": "wGng7elNpMeL",
        "outputId": "f6c05e51-88cd-4310-900e-d6356ae91ee0"
      },
      "source": [
        "clf = BaggingRegressor(n_estimators=700)\n",
        "        \n",
        "\n",
        "dt_oofs, dt_preds = run_clf_kfold(clf, train_proc, test_proc, features)"
      ],
      "execution_count": null,
      "outputs": [
        {
          "output_type": "stream",
          "text": [
            "\n",
            "------------- Fold 1 -------------\n",
            "\n",
            "AV metric score for validation set is 24537.707202490517\n",
            "\n",
            "------------- Fold 2 -------------\n",
            "\n",
            "AV metric score for validation set is 13427.687441488044\n",
            "\n",
            "------------- Fold 3 -------------\n",
            "\n",
            "AV metric score for validation set is 10842.253746036968\n",
            "\n",
            "------------- Fold 4 -------------\n",
            "\n",
            "AV metric score for validation set is 16748.494983440087\n",
            "\n",
            "------------- Fold 5 -------------\n",
            "\n",
            "AV metric score for validation set is 12075.801200463453\n",
            "\n",
            "\n",
            "AV metric for oofs is 16288.491315946045\n"
          ],
          "name": "stdout"
        }
      ]
    },
    {
      "cell_type": "code",
      "metadata": {
        "colab": {
          "base_uri": "https://localhost:8080/"
        },
        "id": "cZiklcdeosmG",
        "outputId": "9c36ef79-4551-4a79-ddf3-7d0ebbf7eb64"
      },
      "source": [
        "y_pred = (dt_preds+dtrf_preds+dtet_preds)/3\n",
        "y_pred"
      ],
      "execution_count": null,
      "outputs": [
        {
          "output_type": "execute_result",
          "data": {
            "text/plain": [
              "array([ 3303.41808295,  1963.817982  , 11789.75928525, ...,\n",
              "        5929.28997202,  3607.19521785,  1010.01421953])"
            ]
          },
          "metadata": {
            "tags": []
          },
          "execution_count": 38
        }
      ]
    },
    {
      "cell_type": "code",
      "metadata": {
        "colab": {
          "background_save": true,
          "base_uri": "https://localhost:8080/",
          "height": 16
        },
        "id": "KqaYMRbp9Y6v",
        "outputId": "fba78774-1d8c-4dd9-a034-4c86cc84075d"
      },
      "source": [
        "#y_pred =np.expm1(dt_preds)\n",
        "test_pr = df_test\n",
        "test_pr['Product_id'] = test_pr.index \n",
        "product_id = test_pr['Product_id']\n",
        "Submission=pd.DataFrame(product_id,columns=['Product_id'])\n",
        "Submission.reset_index(drop=True, inplace=True)\n",
        "Submission['Selling_Price'] =y_pred\n",
        "Submission.to_csv('carniwal203.csv')\n",
        "files.download('carniwal203.csv')"
      ],
      "execution_count": null,
      "outputs": [
        {
          "output_type": "display_data",
          "data": {
            "application/javascript": [
              "\n",
              "    async function download(id, filename, size) {\n",
              "      if (!google.colab.kernel.accessAllowed) {\n",
              "        return;\n",
              "      }\n",
              "      const div = document.createElement('div');\n",
              "      const label = document.createElement('label');\n",
              "      label.textContent = `Downloading \"${filename}\": `;\n",
              "      div.appendChild(label);\n",
              "      const progress = document.createElement('progress');\n",
              "      progress.max = size;\n",
              "      div.appendChild(progress);\n",
              "      document.body.appendChild(div);\n",
              "\n",
              "      const buffers = [];\n",
              "      let downloaded = 0;\n",
              "\n",
              "      const channel = await google.colab.kernel.comms.open(id);\n",
              "      // Send a message to notify the kernel that we're ready.\n",
              "      channel.send({})\n",
              "\n",
              "      for await (const message of channel.messages) {\n",
              "        // Send a message to notify the kernel that we're ready.\n",
              "        channel.send({})\n",
              "        if (message.buffers) {\n",
              "          for (const buffer of message.buffers) {\n",
              "            buffers.push(buffer);\n",
              "            downloaded += buffer.byteLength;\n",
              "            progress.value = downloaded;\n",
              "          }\n",
              "        }\n",
              "      }\n",
              "      const blob = new Blob(buffers, {type: 'application/binary'});\n",
              "      const a = document.createElement('a');\n",
              "      a.href = window.URL.createObjectURL(blob);\n",
              "      a.download = filename;\n",
              "      div.appendChild(a);\n",
              "      a.click();\n",
              "      div.remove();\n",
              "    }\n",
              "  "
            ],
            "text/plain": [
              "<IPython.core.display.Javascript object>"
            ]
          },
          "metadata": {
            "tags": []
          }
        },
        {
          "output_type": "display_data",
          "data": {
            "application/javascript": [
              "download(\"download_7866f05e-399e-44c9-b107-4ee5d57d14cb\", \"carniwal227.csv\", 135364)"
            ],
            "text/plain": [
              "<IPython.core.display.Javascript object>"
            ]
          },
          "metadata": {
            "tags": []
          }
        }
      ]
    },
    {
      "cell_type": "code",
      "metadata": {
        "id": "qv0SDYHA9Y3q"
      },
      "source": [
        "train_new = train_proc[[TARGET_COL]]\n",
        "#test_new = test[[ID_COL]]\n",
        "\n",
        "\n",
        "train_new['lgb'] = dt_oofs\n",
        "test_new=pd.DataFrame(dt_preds,columns=['lgb'])\n",
        "\n",
        "train_new['cb'] = dtrf_oofs\n",
        "test_new['cb'] = dtrf_preds\n",
        "\n",
        "train_new['xgb'] = dtet_oofs\n",
        "test_new['xgb'] = dtet_preds"
      ],
      "execution_count": null,
      "outputs": []
    },
    {
      "cell_type": "code",
      "metadata": {
        "id": "bi9Es-UrFmb1"
      },
      "source": [
        "features = [c for c in train_new.columns if c not in [TARGET_COL]]"
      ],
      "execution_count": null,
      "outputs": []
    },
    {
      "cell_type": "code",
      "metadata": {
        "colab": {
          "base_uri": "https://localhost:8080/"
        },
        "id": "7sKXnFBTFjEf",
        "outputId": "712ae534-d565-45b4-bb84-f2cb36784ac0"
      },
      "source": [
        "clf = LinearRegression()\n",
        "\n",
        "ens_oofs, ens_preds = run_clf_kfold(clf, train_new, test_new, features)"
      ],
      "execution_count": null,
      "outputs": [
        {
          "output_type": "stream",
          "text": [
            "\n",
            "------------- Fold 1 -------------\n",
            "\n",
            "AV metric score for validation set is 18596.549074285063\n",
            "\n",
            "------------- Fold 2 -------------\n",
            "\n",
            "AV metric score for validation set is 12655.038728794256\n",
            "\n",
            "------------- Fold 3 -------------\n",
            "\n",
            "AV metric score for validation set is 10634.753725060446\n",
            "\n",
            "------------- Fold 4 -------------\n",
            "\n",
            "AV metric score for validation set is 15780.367054277662\n",
            "\n",
            "------------- Fold 5 -------------\n",
            "\n",
            "AV metric score for validation set is 8711.244753417644\n",
            "\n",
            "\n",
            "AV metric for oofs is 13741.29955429575\n"
          ],
          "name": "stdout"
        }
      ]
    },
    {
      "cell_type": "code",
      "metadata": {
        "colab": {
          "base_uri": "https://localhost:8080/",
          "height": 16
        },
        "id": "vHOMzwPGFt2O",
        "outputId": "8c8389ec-9c03-4d9b-ae17-77d1792dac16"
      },
      "source": [
        "#y_pred =np.expm1(dt_preds)\n",
        "test_pr['Product_id'] = test_pr.index \n",
        "product_id = test_pr['Product_id']\n",
        "Submission=pd.DataFrame(product_id,columns=['Product_id'])\n",
        "Submission.reset_index(drop=True, inplace=True)\n",
        "Submission['Selling_Price'] =ens_preds\n",
        "Submission.to_csv('carniwal204.csv')\n",
        "files.download('carniwal204.csv')"
      ],
      "execution_count": null,
      "outputs": [
        {
          "output_type": "display_data",
          "data": {
            "application/javascript": [
              "\n",
              "    async function download(id, filename, size) {\n",
              "      if (!google.colab.kernel.accessAllowed) {\n",
              "        return;\n",
              "      }\n",
              "      const div = document.createElement('div');\n",
              "      const label = document.createElement('label');\n",
              "      label.textContent = `Downloading \"${filename}\": `;\n",
              "      div.appendChild(label);\n",
              "      const progress = document.createElement('progress');\n",
              "      progress.max = size;\n",
              "      div.appendChild(progress);\n",
              "      document.body.appendChild(div);\n",
              "\n",
              "      const buffers = [];\n",
              "      let downloaded = 0;\n",
              "\n",
              "      const channel = await google.colab.kernel.comms.open(id);\n",
              "      // Send a message to notify the kernel that we're ready.\n",
              "      channel.send({})\n",
              "\n",
              "      for await (const message of channel.messages) {\n",
              "        // Send a message to notify the kernel that we're ready.\n",
              "        channel.send({})\n",
              "        if (message.buffers) {\n",
              "          for (const buffer of message.buffers) {\n",
              "            buffers.push(buffer);\n",
              "            downloaded += buffer.byteLength;\n",
              "            progress.value = downloaded;\n",
              "          }\n",
              "        }\n",
              "      }\n",
              "      const blob = new Blob(buffers, {type: 'application/binary'});\n",
              "      const a = document.createElement('a');\n",
              "      a.href = window.URL.createObjectURL(blob);\n",
              "      a.download = filename;\n",
              "      div.appendChild(a);\n",
              "      a.click();\n",
              "      div.remove();\n",
              "    }\n",
              "  "
            ],
            "text/plain": [
              "<IPython.core.display.Javascript object>"
            ]
          },
          "metadata": {
            "tags": []
          }
        },
        {
          "output_type": "display_data",
          "data": {
            "application/javascript": [
              "download(\"download_3cb9f0d5-84dc-4733-ae28-2ecec57945ac\", \"carniwal204.csv\", 136936)"
            ],
            "text/plain": [
              "<IPython.core.display.Javascript object>"
            ]
          },
          "metadata": {
            "tags": []
          }
        }
      ]
    },
    {
      "cell_type": "code",
      "metadata": {
        "id": "gDyk8gV49Yys"
      },
      "source": [
        ""
      ],
      "execution_count": null,
      "outputs": []
    },
    {
      "cell_type": "code",
      "metadata": {
        "id": "4uOytXWR9Yv6"
      },
      "source": [
        ""
      ],
      "execution_count": null,
      "outputs": []
    },
    {
      "cell_type": "code",
      "metadata": {
        "id": "NBX-8hub1Rad"
      },
      "source": [
        ""
      ],
      "execution_count": null,
      "outputs": []
    },
    {
      "cell_type": "code",
      "metadata": {
        "colab": {
          "base_uri": "https://localhost:8080/"
        },
        "id": "0PsxSxKxTkm-",
        "outputId": "48624372-fb75-432f-b655-2015fc0dc668"
      },
      "source": [
        "from sklearn.model_selection import train_test_split, StratifiedKFold,KFold,TimeSeriesSplit,cross_val_score,GridSearchCV\n",
        "def baseliner(X_data, y_data): # scoring can be changed roc_auc, neg_log_loss\n",
        "    print(\"Baseliner Models(All)\")\n",
        "    eval_dict = {}\n",
        "    models = [\n",
        "        KNeighborsRegressor(),\n",
        "        LinearRegression(),SGDRegressor(),#SVR(),\n",
        "        ExtraTreeRegressor(),\n",
        "        RandomForestRegressor(n_jobs=-1),ExtraTreesRegressor(),BaggingRegressor(),\n",
        "        xgb.XGBRegressor(),GradientBoostingRegressor(),AdaBoostRegressor(),\n",
        "        #make_pipeline(RobustScaler(), Lasso(alpha =0.0005, random_state=1)),\n",
        "        #make_pipeline(RobustScaler(), ElasticNet(alpha=0.0005, l1_ratio=.9, random_state=3)),\n",
        "        #KernelRidge(alpha=0.6, kernel='polynomial', degree=2, coef0=2.5)\n",
        "        LGBMRegressor()#,CatBoostRegressor()\n",
        "        \n",
        "        ]  \n",
        "\n",
        "    print(\"sklearn Model Name  \\t  CV\")\n",
        "    print(\"--\" * 20)\n",
        "\n",
        "    for index, model in enumerate(models, 0):\n",
        "        model_name = str(model).split(\"(\")[0]\n",
        "        eval_dict[model_name] = {}\n",
        "        #classes = y_data.unique()\n",
        "        results = cross_val_score(estimator=model, X=X_data, y=y_data, cv=3, scoring='r2')\n",
        "        eval_dict[model_name]['cv'] = results.mean()\n",
        "\n",
        "        print(\"%s \\t %.4f \\t\" % (\n",
        "            model_name[:21], eval_dict[model_name]['cv']))\n",
        "        \n",
        "baseliner(X_data = train_pro, y_data = y_train)"
      ],
      "execution_count": 26,
      "outputs": [
        {
          "output_type": "stream",
          "text": [
            "Baseliner Models(All)\n",
            "sklearn Model Name  \t  CV\n",
            "----------------------------------------\n",
            "KNeighborsRegressor \t 0.9907 \t\n",
            "LinearRegression \t 0.9977 \t\n",
            "SGDRegressor \t -969911822458781169010868224.0000 \t\n",
            "ExtraTreeRegressor \t 0.9949 \t\n",
            "RandomForestRegressor \t 0.9968 \t\n",
            "ExtraTreesRegressor \t 0.9977 \t\n",
            "BaggingRegressor \t 0.9969 \t\n",
            "[06:46:22] WARNING: /workspace/src/objective/regression_obj.cu:152: reg:linear is now deprecated in favor of reg:squarederror.\n",
            "[06:46:23] WARNING: /workspace/src/objective/regression_obj.cu:152: reg:linear is now deprecated in favor of reg:squarederror.\n",
            "[06:46:23] WARNING: /workspace/src/objective/regression_obj.cu:152: reg:linear is now deprecated in favor of reg:squarederror.\n",
            "XGBRegressor \t 0.9969 \t\n",
            "GradientBoostingRegre \t 0.9965 \t\n",
            "AdaBoostRegressor \t 0.9639 \t\n",
            "LGBMRegressor \t 0.9965 \t\n"
          ],
          "name": "stdout"
        }
      ]
    },
    {
      "cell_type": "code",
      "metadata": {
        "id": "KvE1OW1r3f_T"
      },
      "source": [
        "clf = ExtraTreesRegressor()\n",
        "\n",
        "clf.fit(train_pro,y_train)\n",
        "p1 = clf.predict(test_pro)"
      ],
      "execution_count": 27,
      "outputs": []
    },
    {
      "cell_type": "code",
      "metadata": {
        "id": "fH6qufce1e6x"
      },
      "source": [
        "#y_pred =np.expm1(dt_preds)\n",
        "y_pred = p1.round(2)\n",
        "test_pr = test_proc\n",
        "test_pr['Product_id'] = df_test.index \n",
        "product_id = test_pr['Product_id']\n",
        "Submission=pd.DataFrame(product_id,columns=['Product_id'])\n",
        "Submission.reset_index(drop=True, inplace=True)\n",
        "Submission['Selling_Price'] =y_pred"
      ],
      "execution_count": 28,
      "outputs": []
    },
    {
      "cell_type": "code",
      "metadata": {
        "colab": {
          "base_uri": "https://localhost:8080/",
          "height": 406
        },
        "id": "9Z2kyFFZ3uBA",
        "outputId": "935675f4-8906-4f1b-ccf3-2a01a06a3427"
      },
      "source": [
        "Submission"
      ],
      "execution_count": 29,
      "outputs": [
        {
          "output_type": "execute_result",
          "data": {
            "text/html": [
              "<div>\n",
              "<style scoped>\n",
              "    .dataframe tbody tr th:only-of-type {\n",
              "        vertical-align: middle;\n",
              "    }\n",
              "\n",
              "    .dataframe tbody tr th {\n",
              "        vertical-align: top;\n",
              "    }\n",
              "\n",
              "    .dataframe thead th {\n",
              "        text-align: right;\n",
              "    }\n",
              "</style>\n",
              "<table border=\"1\" class=\"dataframe\">\n",
              "  <thead>\n",
              "    <tr style=\"text-align: right;\">\n",
              "      <th></th>\n",
              "      <th>Product_id</th>\n",
              "      <th>Selling_Price</th>\n",
              "    </tr>\n",
              "  </thead>\n",
              "  <tbody>\n",
              "    <tr>\n",
              "      <th>0</th>\n",
              "      <td>SCHE4YSTDVPVZVXW</td>\n",
              "      <td>3294.85</td>\n",
              "    </tr>\n",
              "    <tr>\n",
              "      <th>1</th>\n",
              "      <td>ACCEGCATKHNRXUHW</td>\n",
              "      <td>1952.49</td>\n",
              "    </tr>\n",
              "    <tr>\n",
              "      <th>2</th>\n",
              "      <td>NKCE6GJ5XVJDXNNZ</td>\n",
              "      <td>11791.08</td>\n",
              "    </tr>\n",
              "    <tr>\n",
              "      <th>3</th>\n",
              "      <td>NKCEB8BK3ZXDHDHM</td>\n",
              "      <td>9491.86</td>\n",
              "    </tr>\n",
              "    <tr>\n",
              "      <th>4</th>\n",
              "      <td>TOPEFDXSAHRNPF94</td>\n",
              "      <td>5721.30</td>\n",
              "    </tr>\n",
              "    <tr>\n",
              "      <th>...</th>\n",
              "      <td>...</td>\n",
              "      <td>...</td>\n",
              "    </tr>\n",
              "    <tr>\n",
              "      <th>3425</th>\n",
              "      <td>BBAE9K7BXFUTDNBK</td>\n",
              "      <td>3980.49</td>\n",
              "    </tr>\n",
              "    <tr>\n",
              "      <th>3426</th>\n",
              "      <td>RTRDYPA4PJHCJCGF</td>\n",
              "      <td>9234.20</td>\n",
              "    </tr>\n",
              "    <tr>\n",
              "      <th>3427</th>\n",
              "      <td>TUNE8FWQBS7TVVT7</td>\n",
              "      <td>5939.19</td>\n",
              "    </tr>\n",
              "    <tr>\n",
              "      <th>3428</th>\n",
              "      <td>NKCEGMUABCRGUZPE</td>\n",
              "      <td>3621.46</td>\n",
              "    </tr>\n",
              "    <tr>\n",
              "      <th>3429</th>\n",
              "      <td>RNGE7M92KAQWUBCS</td>\n",
              "      <td>1002.60</td>\n",
              "    </tr>\n",
              "  </tbody>\n",
              "</table>\n",
              "<p>3430 rows × 2 columns</p>\n",
              "</div>"
            ],
            "text/plain": [
              "            Product_id  Selling_Price\n",
              "0     SCHE4YSTDVPVZVXW        3294.85\n",
              "1     ACCEGCATKHNRXUHW        1952.49\n",
              "2     NKCE6GJ5XVJDXNNZ       11791.08\n",
              "3     NKCEB8BK3ZXDHDHM        9491.86\n",
              "4     TOPEFDXSAHRNPF94        5721.30\n",
              "...                ...            ...\n",
              "3425  BBAE9K7BXFUTDNBK        3980.49\n",
              "3426  RTRDYPA4PJHCJCGF        9234.20\n",
              "3427  TUNE8FWQBS7TVVT7        5939.19\n",
              "3428  NKCEGMUABCRGUZPE        3621.46\n",
              "3429  RNGE7M92KAQWUBCS        1002.60\n",
              "\n",
              "[3430 rows x 2 columns]"
            ]
          },
          "metadata": {
            "tags": []
          },
          "execution_count": 29
        }
      ]
    },
    {
      "cell_type": "code",
      "metadata": {
        "colab": {
          "base_uri": "https://localhost:8080/",
          "height": 16
        },
        "id": "F7vK7TTd1e4F",
        "outputId": "cec34e87-5070-41a3-d0cc-c96d3f25349a"
      },
      "source": [
        "Submission.to_csv('carniwal312.csv')\n",
        "files.download('carniwal312.csv')"
      ],
      "execution_count": 30,
      "outputs": [
        {
          "output_type": "display_data",
          "data": {
            "application/javascript": [
              "\n",
              "    async function download(id, filename, size) {\n",
              "      if (!google.colab.kernel.accessAllowed) {\n",
              "        return;\n",
              "      }\n",
              "      const div = document.createElement('div');\n",
              "      const label = document.createElement('label');\n",
              "      label.textContent = `Downloading \"${filename}\": `;\n",
              "      div.appendChild(label);\n",
              "      const progress = document.createElement('progress');\n",
              "      progress.max = size;\n",
              "      div.appendChild(progress);\n",
              "      document.body.appendChild(div);\n",
              "\n",
              "      const buffers = [];\n",
              "      let downloaded = 0;\n",
              "\n",
              "      const channel = await google.colab.kernel.comms.open(id);\n",
              "      // Send a message to notify the kernel that we're ready.\n",
              "      channel.send({})\n",
              "\n",
              "      for await (const message of channel.messages) {\n",
              "        // Send a message to notify the kernel that we're ready.\n",
              "        channel.send({})\n",
              "        if (message.buffers) {\n",
              "          for (const buffer of message.buffers) {\n",
              "            buffers.push(buffer);\n",
              "            downloaded += buffer.byteLength;\n",
              "            progress.value = downloaded;\n",
              "          }\n",
              "        }\n",
              "      }\n",
              "      const blob = new Blob(buffers, {type: 'application/binary'});\n",
              "      const a = document.createElement('a');\n",
              "      a.href = window.URL.createObjectURL(blob);\n",
              "      a.download = filename;\n",
              "      div.appendChild(a);\n",
              "      a.click();\n",
              "      div.remove();\n",
              "    }\n",
              "  "
            ],
            "text/plain": [
              "<IPython.core.display.Javascript object>"
            ]
          },
          "metadata": {
            "tags": []
          }
        },
        {
          "output_type": "display_data",
          "data": {
            "application/javascript": [
              "download(\"download_35ea90f7-94e7-457d-8ecc-c9340374d241\", \"carniwal312.csv\", 101194)"
            ],
            "text/plain": [
              "<IPython.core.display.Javascript object>"
            ]
          },
          "metadata": {
            "tags": []
          }
        }
      ]
    },
    {
      "cell_type": "code",
      "metadata": {
        "id": "p5o3KmFJDiU3"
      },
      "source": [
        "from sklearn.feature_selection import RFECV\n",
        "\n",
        "# The \"accuracy\" scoring is proportional to the number of correct classifications\n",
        "clf_rf_4 = ExtraTreesRegressor() \n",
        "rfecv = RFECV(estimator=clf_rf_4, step=1, cv=5,scoring='r2')   #5-fold cross-validation\n",
        "rfecv = rfecv.fit(train_pro, y_train)\n"
      ],
      "execution_count": 23,
      "outputs": []
    },
    {
      "cell_type": "code",
      "metadata": {
        "colab": {
          "base_uri": "https://localhost:8080/",
          "height": 482
        },
        "id": "9YaMy9QBEeBo",
        "outputId": "fb640296-11f6-40fd-f87a-b930ed36aa3c"
      },
      "source": [
        "\n",
        "print('Optimal number of features :', rfecv.n_features_)\n",
        "print('Best features :', train_pro.columns[rfecv.support_])\n",
        "\n",
        "import matplotlib.pyplot as plt\n",
        "plt.figure()\n",
        "plt.xlabel(\"Number of features selected\")\n",
        "plt.ylabel(\"Cross validation score of number of selected features\")\n",
        "plt.plot(range(1, len(rfecv.grid_scores_) + 1), rfecv.grid_scores_)\n",
        "plt.show()"
      ],
      "execution_count": 24,
      "outputs": [
        {
          "output_type": "stream",
          "text": [
            "Optimal number of features : 42\n",
            "Best features : Index(['Market_Category', 'Loyalty_customer', 'Product_Category', 'Demand',\n",
            "       'Discount_avail', 'charges_1', 'charges_2 (%)', 'Minimum_price',\n",
            "       'Maximum_price', 'Year', 'date', 'day', 'hour', 'days_left', 'avg',\n",
            "       'avg1', 'sell', 'unit_price', 'unit_price1', 'unit_price2',\n",
            "       'unit_price3', 'unit_price4', 'crge', 'crge1', 'crge2', 'crge3',\n",
            "       'crge4', 'crge11', 'crge12', 'crge23', 'crge34', 'crge45', 'crge111',\n",
            "       'crge112', 'crge222', 'crge322', 'crge422', 'crge119', 'crge129',\n",
            "       'crge239', 'crge349', 'crge459'],\n",
            "      dtype='object')\n"
          ],
          "name": "stdout"
        },
        {
          "output_type": "display_data",
          "data": {
            "image/png": "[encoded data removed]",
            "text/plain": [
              "<Figure size 432x288 with 1 Axes>"
            ]
          },
          "metadata": {
            "tags": [],
            "needs_background": "light"
          }
        }
      ]
    },
    {
      "cell_type": "code",
      "metadata": {
        "colab": {
          "base_uri": "https://localhost:8080/",
          "height": 606
        },
        "id": "e6wC-4YEVYoJ",
        "outputId": "a389f588-92d9-4692-bedf-3b5a6cdfdd13"
      },
      "source": [
        "# decision tree for feature importance on a regression problem\n",
        "model = ExtraTreesRegressor()\n",
        "# fit the model\n",
        "model.fit(train_pro, y_train)\n",
        "# get importance\n",
        "importances = model.feature_importances_\n",
        "indices = np.argsort(importances)[::-1]\n",
        "# Print the feature ranking\n",
        "for f in range(df_train.shape[1]):\n",
        "    print(\"%d. feature %d (%f)\" % (f + 1, indices[f], importances[indices[f]]))\n",
        "# plot feature importance\n",
        "plt.bar([x for x in range(len(importances))], importances)\n",
        "plt.show()"
      ],
      "execution_count": 24,
      "outputs": [
        {
          "output_type": "stream",
          "text": [
            "1. feature 39 (0.286640)\n",
            "2. feature 16 (0.279414)\n",
            "3. feature 5 (0.092451)\n",
            "4. feature 17 (0.070969)\n",
            "5. feature 18 (0.061573)\n",
            "6. feature 40 (0.049963)\n",
            "7. feature 41 (0.043742)\n",
            "8. feature 29 (0.037308)\n",
            "9. feature 24 (0.021070)\n",
            "10. feature 9 (0.017317)\n",
            "11. feature 43 (0.013420)\n",
            "12. feature 8 (0.009481)\n",
            "13. feature 34 (0.005770)\n",
            "14. feature 42 (0.005313)\n",
            "15. feature 19 (0.002195)\n",
            "16. feature 10 (0.000358)\n",
            "17. feature 28 (0.000288)\n",
            "18. feature 25 (0.000268)\n",
            "19. feature 35 (0.000209)\n"
          ],
          "name": "stdout"
        },
        {
          "output_type": "display_data",
          "data": {
            "image/png": "[encoded data removed]",
            "text/plain": [
              "<Figure size 432x288 with 1 Axes>"
            ]
          },
          "metadata": {
            "tags": [],
            "needs_background": "light"
          }
        }
      ]
    },
    {
      "cell_type": "code",
      "metadata": {
        "colab": {
          "base_uri": "https://localhost:8080/"
        },
        "id": "75cjQ43j1e1u",
        "outputId": "ffd0b02c-959d-4809-e797-7840760cf6c9"
      },
      "source": [
        "train_pro.info()"
      ],
      "execution_count": 25,
      "outputs": [
        {
          "output_type": "stream",
          "text": [
            "<class 'pandas.core.frame.DataFrame'>\n",
            "Int64Index: 5986 entries, 0 to 5985\n",
            "Data columns (total 44 columns):\n",
            " #   Column            Non-Null Count  Dtype  \n",
            "---  ------            --------------  -----  \n",
            " 0   Market_Category   5986 non-null   int64  \n",
            " 1   Loyalty_customer  5986 non-null   int64  \n",
            " 2   Product_Category  5986 non-null   int64  \n",
            " 3   Grade             5986 non-null   int64  \n",
            " 4   Demand            5986 non-null   int64  \n",
            " 5   Discount_avail    5986 non-null   float64\n",
            " 6   charges_1         5986 non-null   float64\n",
            " 7   charges_2 (%)     5986 non-null   float64\n",
            " 8   Minimum_price     5986 non-null   float64\n",
            " 9   Maximum_price     5986 non-null   float64\n",
            " 10  Year              5986 non-null   int64  \n",
            " 11  Mon               5986 non-null   int64  \n",
            " 12  date              5986 non-null   int64  \n",
            " 13  day               5986 non-null   int64  \n",
            " 14  hour              5986 non-null   int64  \n",
            " 15  days_left         5986 non-null   float64\n",
            " 16  avg               5986 non-null   float64\n",
            " 17  avg1              5986 non-null   float64\n",
            " 18  sell              5986 non-null   float64\n",
            " 19  unit_price        5986 non-null   float64\n",
            " 20  unit_price1       5986 non-null   float64\n",
            " 21  unit_price2       5986 non-null   float64\n",
            " 22  unit_price3       5986 non-null   float64\n",
            " 23  unit_price4       5986 non-null   float64\n",
            " 24  crge              5986 non-null   float64\n",
            " 25  crge1             5986 non-null   float64\n",
            " 26  crge2             5986 non-null   float64\n",
            " 27  crge3             5986 non-null   float64\n",
            " 28  crge4             5986 non-null   float64\n",
            " 29  crge11            5986 non-null   float64\n",
            " 30  crge12            5986 non-null   float64\n",
            " 31  crge23            5986 non-null   float64\n",
            " 32  crge34            5986 non-null   float64\n",
            " 33  crge45            5986 non-null   float64\n",
            " 34  crge111           5986 non-null   float64\n",
            " 35  crge112           5986 non-null   float64\n",
            " 36  crge222           5986 non-null   float64\n",
            " 37  crge322           5986 non-null   float64\n",
            " 38  crge422           5986 non-null   float64\n",
            " 39  crge119           5986 non-null   float64\n",
            " 40  crge129           5986 non-null   float64\n",
            " 41  crge239           5986 non-null   float64\n",
            " 42  crge349           5986 non-null   float64\n",
            " 43  crge459           5986 non-null   float64\n",
            "dtypes: float64(34), int64(10)\n",
            "memory usage: 2.1 MB\n"
          ],
          "name": "stdout"
        }
      ]
    },
    {
      "cell_type": "code",
      "metadata": {
        "colab": {
          "base_uri": "https://localhost:8080/"
        },
        "id": "4Cmqkbd6eiJS",
        "outputId": "780c638c-181a-4855-8b90-69d37b9cb0ac"
      },
      "source": [
        "'Stall_no', 'instock_date', 'Market_Category', 'Customer_name',\n",
        "       'Loyalty_customer', 'Product_Category', 'Grade', 'Demand', 'charges_1', 'charges_2 (%)', \n",
        "       , 'Year', 'Mon', 'date', 'day', 'hour',\n",
        "       'days_left', 'unit_price1',\n",
        "       'unit_price2', 'unit_price3', 'unit_price4', , 'crge1', 'crge2',\n",
        "       'crge3', 'crge4', 'crge12', 'crge23', 'crge34', 'crge45',\n",
        "       , 'crge112', 'crge222', 'crge322', 'crge422', "
      ],
      "execution_count": 16,
      "outputs": [
        {
          "output_type": "execute_result",
          "data": {
            "text/plain": [
              "Index(['Stall_no', 'instock_date', 'Market_Category', 'Customer_name',\n",
              "       'Loyalty_customer', 'Product_Category', 'Grade', 'Demand',\n",
              "       'Discount_avail', 'charges_1', 'charges_2 (%)', 'Minimum_price',\n",
              "       'Maximum_price', 'Selling_Price', 'Year', 'Mon', 'date', 'day', 'hour',\n",
              "       'days_left', 'avg', 'avg1', 'sell', 'unit_price', 'unit_price1',\n",
              "       'unit_price2', 'unit_price3', 'unit_price4', 'crge', 'crge1', 'crge2',\n",
              "       'crge3', 'crge4', 'crge11', 'crge12', 'crge23', 'crge34', 'crge45',\n",
              "       'crge111', 'crge112', 'crge222', 'crge322', 'crge422', 'crge119',\n",
              "       'crge129', 'crge239', 'crge349', 'crge459'],\n",
              "      dtype='object')"
            ]
          },
          "metadata": {
            "tags": []
          },
          "execution_count": 16
        }
      ]
    },
    {
      "cell_type": "code",
      "metadata": {
        "id": "ukJWAKy_atMz"
      },
      "source": [
        "1. feature 39 (0.286640)\n",
        "2. feature 16 (0.279414)\n",
        "3. feature 5 (0.092451)\n",
        "4. feature 17 (0.070969)\n",
        "5. feature 18 (0.061573)\n",
        "6. feature 40 (0.049963)\n",
        "7. feature 41 (0.043742)\n",
        "8. feature 29 (0.037308)\n",
        "9. feature 24 (0.021070)\n",
        "10. feature 9 (0.017317)\n",
        "11. feature 43 (0.013420)\n",
        "12. feature 8 (0.009481)\n",
        "13. feature 34 (0.005770)\n",
        "14. feature 42 (0.005313)\n",
        "15. feature 19 (0.002195)"
      ],
      "execution_count": null,
      "outputs": []
    },
    {
      "cell_type": "code",
      "metadata": {
        "colab": {
          "base_uri": "https://localhost:8080/",
          "height": 922
        },
        "id": "aCXIAwqnGwa9",
        "outputId": "0a6871b9-94dd-48ad-88dc-42111afc2aac"
      },
      "source": [
        "plt.figure(figsize=(20, 14))\n",
        "_ = sns.heatmap(train_proc.corr(), annot=True)"
      ],
      "execution_count": null,
      "outputs": [
        {
          "output_type": "display_data",
          "data": {
            "image/png": "[encoded data removed]",
            "text/plain": [
              "<Figure size 1440x1008 with 2 Axes>"
            ]
          },
          "metadata": {
            "tags": []
          }
        }
      ]
    },
    {
      "cell_type": "code",
      "metadata": {
        "id": "LZweMnoiB_Bn"
      },
      "source": [
        "df_train['Selling_Price'] = abs(df_train['Selling_Price'])\n"
      ],
      "execution_count": null,
      "outputs": []
    },
    {
      "cell_type": "code",
      "metadata": {
        "colab": {
          "base_uri": "https://localhost:8080/"
        },
        "id": "Q0Uoci7ZB_7v",
        "outputId": "93e298ae-4552-4ddc-9c5a-4de8ad9f3ca3"
      },
      "source": [
        "df_train.isnull().sum()"
      ],
      "execution_count": null,
      "outputs": [
        {
          "output_type": "execute_result",
          "data": {
            "text/plain": [
              "Product_id            0\n",
              "Stall_no              5\n",
              "instock_date          0\n",
              "Market_Category       0\n",
              "Customer_name       211\n",
              "Loyalty_customer      0\n",
              "Product_Category      0\n",
              "Grade                 0\n",
              "Demand                0\n",
              "Discount_avail       38\n",
              "charges_1           198\n",
              "charges_2 (%)       205\n",
              "Minimum_price        38\n",
              "Maximum_price       343\n",
              "Selling_Price        41\n",
              "dtype: int64"
            ]
          },
          "metadata": {
            "tags": []
          },
          "execution_count": 5
        }
      ]
    },
    {
      "cell_type": "code",
      "metadata": {
        "colab": {
          "base_uri": "https://localhost:8080/",
          "height": 737
        },
        "id": "SFSk7Z_B4ZQg",
        "outputId": "a2d140c7-40a8-4a16-d746-84d4434b7d65"
      },
      "source": [
        "df_train[df_train['Selling_Price']<0]"
      ],
      "execution_count": null,
      "outputs": [
        {
          "output_type": "execute_result",
          "data": {
            "text/html": [
              "<div>\n",
              "<style scoped>\n",
              "    .dataframe tbody tr th:only-of-type {\n",
              "        vertical-align: middle;\n",
              "    }\n",
              "\n",
              "    .dataframe tbody tr th {\n",
              "        vertical-align: top;\n",
              "    }\n",
              "\n",
              "    .dataframe thead th {\n",
              "        text-align: right;\n",
              "    }\n",
              "</style>\n",
              "<table border=\"1\" class=\"dataframe\">\n",
              "  <thead>\n",
              "    <tr style=\"text-align: right;\">\n",
              "      <th></th>\n",
              "      <th>Product_id</th>\n",
              "      <th>Stall_no</th>\n",
              "      <th>instock_date</th>\n",
              "      <th>Market_Category</th>\n",
              "      <th>Customer_name</th>\n",
              "      <th>Loyalty_customer</th>\n",
              "      <th>Product_Category</th>\n",
              "      <th>Grade</th>\n",
              "      <th>Demand</th>\n",
              "      <th>Discount_avail</th>\n",
              "      <th>charges_1</th>\n",
              "      <th>charges_2 (%)</th>\n",
              "      <th>Minimum_price</th>\n",
              "      <th>Maximum_price</th>\n",
              "      <th>Selling_Price</th>\n",
              "    </tr>\n",
              "  </thead>\n",
              "  <tbody>\n",
              "    <tr>\n",
              "      <th>50</th>\n",
              "      <td>WSCEFUV4TVWT73ZB</td>\n",
              "      <td>3.0</td>\n",
              "      <td>2014-11-01 09:46:30.000</td>\n",
              "      <td>0</td>\n",
              "      <td>Henry</td>\n",
              "      <td>Yes</td>\n",
              "      <td>Child_care</td>\n",
              "      <td>0</td>\n",
              "      <td>27</td>\n",
              "      <td>0.0</td>\n",
              "      <td>289.0</td>\n",
              "      <td>16.0</td>\n",
              "      <td>2368.0</td>\n",
              "      <td>4231.0</td>\n",
              "      <td>-3584.795550</td>\n",
              "    </tr>\n",
              "    <tr>\n",
              "      <th>952</th>\n",
              "      <td>BOTEGYTZ2T6WUJMM</td>\n",
              "      <td>22.0</td>\n",
              "      <td>2014-10-18 23:59:24.000</td>\n",
              "      <td>23</td>\n",
              "      <td>Benjamin</td>\n",
              "      <td>Yes</td>\n",
              "      <td>Pet_care</td>\n",
              "      <td>2</td>\n",
              "      <td>12</td>\n",
              "      <td>0.0</td>\n",
              "      <td>102.0</td>\n",
              "      <td>5.0</td>\n",
              "      <td>1390.0</td>\n",
              "      <td>5665.0</td>\n",
              "      <td>-3630.896874</td>\n",
              "    </tr>\n",
              "    <tr>\n",
              "      <th>1000</th>\n",
              "      <td>WATECHFU4QGFQEJG</td>\n",
              "      <td>15.0</td>\n",
              "      <td>2015-01-19 17:23:43.000</td>\n",
              "      <td>437</td>\n",
              "      <td>Audrey</td>\n",
              "      <td>No</td>\n",
              "      <td>Child_care</td>\n",
              "      <td>0</td>\n",
              "      <td>74</td>\n",
              "      <td>0.0</td>\n",
              "      <td>254.0</td>\n",
              "      <td>14.0</td>\n",
              "      <td>3885.0</td>\n",
              "      <td>5485.0</td>\n",
              "      <td>-4896.104400</td>\n",
              "    </tr>\n",
              "    <tr>\n",
              "      <th>1115</th>\n",
              "      <td>DREED6FKBQXMDWGM</td>\n",
              "      <td>14.0</td>\n",
              "      <td>2015-05-06 16:21:38.000</td>\n",
              "      <td>55</td>\n",
              "      <td>NaN</td>\n",
              "      <td>Yes</td>\n",
              "      <td>Pet_care</td>\n",
              "      <td>0</td>\n",
              "      <td>77</td>\n",
              "      <td>0.0</td>\n",
              "      <td>169.0</td>\n",
              "      <td>7.0</td>\n",
              "      <td>3829.0</td>\n",
              "      <td>6083.0</td>\n",
              "      <td>-5077.185300</td>\n",
              "    </tr>\n",
              "    <tr>\n",
              "      <th>1348</th>\n",
              "      <td>WATEAYZJBFJXB4FZ</td>\n",
              "      <td>44.0</td>\n",
              "      <td>2015-03-01 00:31:35.000</td>\n",
              "      <td>256</td>\n",
              "      <td>Tristan</td>\n",
              "      <td>Yes</td>\n",
              "      <td>Repair</td>\n",
              "      <td>0</td>\n",
              "      <td>22</td>\n",
              "      <td>0.0</td>\n",
              "      <td>285.0</td>\n",
              "      <td>2.0</td>\n",
              "      <td>2873.0</td>\n",
              "      <td>6511.0</td>\n",
              "      <td>-4965.495150</td>\n",
              "    </tr>\n",
              "    <tr>\n",
              "      <th>1674</th>\n",
              "      <td>SHOE3URGKNFYXDGP</td>\n",
              "      <td>46.0</td>\n",
              "      <td>2015-05-05 13:19:45.000</td>\n",
              "      <td>283</td>\n",
              "      <td>Steven</td>\n",
              "      <td>Yes</td>\n",
              "      <td>Pet_care</td>\n",
              "      <td>0</td>\n",
              "      <td>57</td>\n",
              "      <td>0.0</td>\n",
              "      <td>135.0</td>\n",
              "      <td>4.0</td>\n",
              "      <td>1975.0</td>\n",
              "      <td>2601.0</td>\n",
              "      <td>-2408.406912</td>\n",
              "    </tr>\n",
              "    <tr>\n",
              "      <th>2035</th>\n",
              "      <td>WSCEG2FYDYFDSVZ6</td>\n",
              "      <td>41.0</td>\n",
              "      <td>2014-10-29 12:46:30.000</td>\n",
              "      <td>236</td>\n",
              "      <td>Dylan</td>\n",
              "      <td>Yes</td>\n",
              "      <td>Hospitality</td>\n",
              "      <td>0</td>\n",
              "      <td>10</td>\n",
              "      <td>0.0</td>\n",
              "      <td>255.0</td>\n",
              "      <td>9.0</td>\n",
              "      <td>1320.0</td>\n",
              "      <td>7873.0</td>\n",
              "      <td>-4855.154436</td>\n",
              "    </tr>\n",
              "    <tr>\n",
              "      <th>2486</th>\n",
              "      <td>BELEG6KUK6ZBFTZJ</td>\n",
              "      <td>14.0</td>\n",
              "      <td>2014-11-09 20:15:45.000</td>\n",
              "      <td>437</td>\n",
              "      <td>Aubrey</td>\n",
              "      <td>Yes</td>\n",
              "      <td>Child_care</td>\n",
              "      <td>0</td>\n",
              "      <td>19</td>\n",
              "      <td>0.0</td>\n",
              "      <td>331.0</td>\n",
              "      <td>17.0</td>\n",
              "      <td>4044.0</td>\n",
              "      <td>5395.0</td>\n",
              "      <td>-5058.014148</td>\n",
              "    </tr>\n",
              "    <tr>\n",
              "      <th>3890</th>\n",
              "      <td>TOPDWSEVWXVQ4GXU</td>\n",
              "      <td>28.0</td>\n",
              "      <td>2015-05-06 14:20:59.000</td>\n",
              "      <td>1</td>\n",
              "      <td>Cesar</td>\n",
              "      <td>Yes</td>\n",
              "      <td>Cosmetics</td>\n",
              "      <td>0</td>\n",
              "      <td>1</td>\n",
              "      <td>0.0</td>\n",
              "      <td>208.0</td>\n",
              "      <td>16.0</td>\n",
              "      <td>2614.0</td>\n",
              "      <td>4891.0</td>\n",
              "      <td>-3966.103350</td>\n",
              "    </tr>\n",
              "    <tr>\n",
              "      <th>4188</th>\n",
              "      <td>RNGE7M92QK8FW7ZD</td>\n",
              "      <td>28.0</td>\n",
              "      <td>2015-08-16 23:12:20.000</td>\n",
              "      <td>14</td>\n",
              "      <td>Zaylee</td>\n",
              "      <td>No</td>\n",
              "      <td>Hospitality</td>\n",
              "      <td>0</td>\n",
              "      <td>23</td>\n",
              "      <td>1.0</td>\n",
              "      <td>325.0</td>\n",
              "      <td>9.0</td>\n",
              "      <td>4322.0</td>\n",
              "      <td>NaN</td>\n",
              "      <td>-822.810319</td>\n",
              "    </tr>\n",
              "    <tr>\n",
              "      <th>4244</th>\n",
              "      <td>SUDEHYGUZMA4GG74</td>\n",
              "      <td>4.0</td>\n",
              "      <td>2015-05-09 17:18:52.000</td>\n",
              "      <td>65</td>\n",
              "      <td>Conrad</td>\n",
              "      <td>Yes</td>\n",
              "      <td>Pet_care</td>\n",
              "      <td>2</td>\n",
              "      <td>87</td>\n",
              "      <td>0.0</td>\n",
              "      <td>191.0</td>\n",
              "      <td>11.0</td>\n",
              "      <td>4616.0</td>\n",
              "      <td>7291.0</td>\n",
              "      <td>-6062.470000</td>\n",
              "    </tr>\n",
              "    <tr>\n",
              "      <th>4398</th>\n",
              "      <td>CLTEJ5ZZGWBAZUWR</td>\n",
              "      <td>20.0</td>\n",
              "      <td>2015-05-09 13:21:38.000</td>\n",
              "      <td>447</td>\n",
              "      <td>Johan</td>\n",
              "      <td>Yes</td>\n",
              "      <td>Pet_care</td>\n",
              "      <td>0</td>\n",
              "      <td>76</td>\n",
              "      <td>0.0</td>\n",
              "      <td>197.0</td>\n",
              "      <td>11.0</td>\n",
              "      <td>4052.0</td>\n",
              "      <td>4817.0</td>\n",
              "      <td>-4.000000</td>\n",
              "    </tr>\n",
              "    <tr>\n",
              "      <th>5313</th>\n",
              "      <td>SHOE7ZJ3GQN3ZHNS</td>\n",
              "      <td>5.0</td>\n",
              "      <td>2014-11-12 18:41:19.000</td>\n",
              "      <td>342</td>\n",
              "      <td>Nicholas</td>\n",
              "      <td>No</td>\n",
              "      <td>Home_decor</td>\n",
              "      <td>0</td>\n",
              "      <td>78</td>\n",
              "      <td>0.0</td>\n",
              "      <td>NaN</td>\n",
              "      <td>17.0</td>\n",
              "      <td>1982.0</td>\n",
              "      <td>3752.0</td>\n",
              "      <td>-3133.221300</td>\n",
              "    </tr>\n",
              "    <tr>\n",
              "      <th>5551</th>\n",
              "      <td>TOPECGFUVZHKUFNN</td>\n",
              "      <td>31.0</td>\n",
              "      <td>2015-05-05 17:21:33.000</td>\n",
              "      <td>423</td>\n",
              "      <td>Jessica</td>\n",
              "      <td>No</td>\n",
              "      <td>Technology</td>\n",
              "      <td>0</td>\n",
              "      <td>79</td>\n",
              "      <td>0.0</td>\n",
              "      <td>529.0</td>\n",
              "      <td>6.0</td>\n",
              "      <td>3157.0</td>\n",
              "      <td>7563.0</td>\n",
              "      <td>-5833.297800</td>\n",
              "    </tr>\n",
              "  </tbody>\n",
              "</table>\n",
              "</div>"
            ],
            "text/plain": [
              "            Product_id  Stall_no  ... Maximum_price  Selling_Price\n",
              "50    WSCEFUV4TVWT73ZB       3.0  ...        4231.0   -3584.795550\n",
              "952   BOTEGYTZ2T6WUJMM      22.0  ...        5665.0   -3630.896874\n",
              "1000  WATECHFU4QGFQEJG      15.0  ...        5485.0   -4896.104400\n",
              "1115  DREED6FKBQXMDWGM      14.0  ...        6083.0   -5077.185300\n",
              "1348  WATEAYZJBFJXB4FZ      44.0  ...        6511.0   -4965.495150\n",
              "1674  SHOE3URGKNFYXDGP      46.0  ...        2601.0   -2408.406912\n",
              "2035  WSCEG2FYDYFDSVZ6      41.0  ...        7873.0   -4855.154436\n",
              "2486  BELEG6KUK6ZBFTZJ      14.0  ...        5395.0   -5058.014148\n",
              "3890  TOPDWSEVWXVQ4GXU      28.0  ...        4891.0   -3966.103350\n",
              "4188  RNGE7M92QK8FW7ZD      28.0  ...           NaN    -822.810319\n",
              "4244  SUDEHYGUZMA4GG74       4.0  ...        7291.0   -6062.470000\n",
              "4398  CLTEJ5ZZGWBAZUWR      20.0  ...        4817.0      -4.000000\n",
              "5313  SHOE7ZJ3GQN3ZHNS       5.0  ...        3752.0   -3133.221300\n",
              "5551  TOPECGFUVZHKUFNN      31.0  ...        7563.0   -5833.297800\n",
              "\n",
              "[14 rows x 15 columns]"
            ]
          },
          "metadata": {
            "tags": []
          },
          "execution_count": 6
        }
      ]
    },
    {
      "cell_type": "code",
      "metadata": {
        "id": "CFa_twC34Zgv"
      },
      "source": [
        ""
      ],
      "execution_count": null,
      "outputs": []
    },
    {
      "cell_type": "code",
      "metadata": {
        "id": "zyjeaSjBYAf6"
      },
      "source": [
        "df_trai = df_train[df_train['Discount_avail']==0]\n",
        "df_tra = df_train[df_train['Discount_avail']==1]"
      ],
      "execution_count": 31,
      "outputs": []
    },
    {
      "cell_type": "code",
      "metadata": {
        "colab": {
          "base_uri": "https://localhost:8080/",
          "height": 562
        },
        "id": "wGBd1BzBYu--",
        "outputId": "a42960a2-ea78-44bc-c6be-657eacc53f6b"
      },
      "source": [
        "from scipy.stats import norm\n",
        "from scipy import stats\n",
        "\n",
        "#histogram and normal probability plot\n",
        "sns.distplot(np.log(df_train['Selling_Price']), fit=norm);\n",
        "fig = plt.figure()\n",
        "res = stats.probplot(np.log(df_train['Selling_Price']), plot=plt)\n"
      ],
      "execution_count": 35,
      "outputs": [
        {
          "output_type": "display_data",
          "data": {
            "image/png": "[encoded data removed]",
            "text/plain": [
              "<Figure size 432x288 with 1 Axes>"
            ]
          },
          "metadata": {
            "tags": [],
            "needs_background": "light"
          }
        },
        {
          "output_type": "display_data",
          "data": {
            "image/png": "[encoded data removed]",
            "text/plain": [
              "<Figure size 432x288 with 1 Axes>"
            ]
          },
          "metadata": {
            "tags": [],
            "needs_background": "light"
          }
        }
      ]
    },
    {
      "cell_type": "code",
      "metadata": {
        "colab": {
          "base_uri": "https://localhost:8080/",
          "height": 557
        },
        "id": "IX-yVf40YAba",
        "outputId": "d5479923-3af1-4877-a402-184f01818158"
      },
      "source": [
        "from scipy.stats import norm\n",
        "from scipy import stats\n",
        "\n",
        "#histogram and normal probability plot\n",
        "sns.distplot(np.log(df_trai['Selling_Price']), fit=norm);\n",
        "fig = plt.figure()\n",
        "res = stats.probplot(np.log(df_trai['Selling_Price']), plot=plt)\n"
      ],
      "execution_count": 37,
      "outputs": [
        {
          "output_type": "display_data",
          "data": {
            "image/png": "[encoded data removed]",
            "text/plain": [
              "<Figure size 432x288 with 1 Axes>"
            ]
          },
          "metadata": {
            "tags": [],
            "needs_background": "light"
          }
        },
        {
          "output_type": "display_data",
          "data": {
            "image/png": "[encoded data removed]",
            "text/plain": [
              "<Figure size 432x288 with 1 Axes>"
            ]
          },
          "metadata": {
            "tags": [],
            "needs_background": "light"
          }
        }
      ]
    },
    {
      "cell_type": "code",
      "metadata": {
        "id": "QYVqX8qeB475",
        "colab": {
          "base_uri": "https://localhost:8080/",
          "height": 557
        },
        "outputId": "6fdaa839-f33d-42a8-ca67-729b7daf3158"
      },
      "source": [
        "from scipy.stats import norm\n",
        "from scipy import stats\n",
        "\n",
        "#histogram and normal probability plot\n",
        "sns.distplot(np.log(df_tra['Selling_Price']), fit=norm);\n",
        "fig = plt.figure()\n",
        "res = stats.probplot(np.log(df_tra['Selling_Price']), plot=plt)\n"
      ],
      "execution_count": 38,
      "outputs": [
        {
          "output_type": "display_data",
          "data": {
            "image/png": "[encoded data removed]",
            "text/plain": [
              "<Figure size 432x288 with 1 Axes>"
            ]
          },
          "metadata": {
            "tags": [],
            "needs_background": "light"
          }
        },
        {
          "output_type": "display_data",
          "data": {
            "image/png": "[encoded data removed]",
            "text/plain": [
              "<Figure size 432x288 with 1 Axes>"
            ]
          },
          "metadata": {
            "tags": [],
            "needs_background": "light"
          }
        }
      ]
    },
    {
      "cell_type": "code",
      "metadata": {
        "id": "CCC6FM2WXyWC"
      },
      "source": [
        ""
      ],
      "execution_count": null,
      "outputs": []
    }
  ]
}